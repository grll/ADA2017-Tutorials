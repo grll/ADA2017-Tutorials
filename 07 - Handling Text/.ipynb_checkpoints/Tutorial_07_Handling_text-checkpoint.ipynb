{
 "cells": [
  {
   "cell_type": "markdown",
   "metadata": {},
   "source": [
    "The purpose of this lab is to introduce some tricks and tools to handle text.\n",
    "\n",
    "We will do the following:\n",
    "    * Work on preprocessing steps\n",
    "    * See a typical task: topic detection\n",
    "    * Run an exercise together: recomposing books with topic modelling\n",
    "    * List of resources\n",
    "    * More exercises for the brave"
   ]
  },
  {
   "cell_type": "markdown",
   "metadata": {},
   "source": [
    "### Basic imports"
   ]
  },
  {
   "cell_type": "code",
   "execution_count": 2,
   "metadata": {},
   "outputs": [
    {
     "name": "stdout",
     "output_type": "stream",
     "text": [
      "The autoreload extension is already loaded. To reload it, use:\n",
      "  %reload_ext autoreload\n"
     ]
    }
   ],
   "source": [
    "# to support both python 2 and python 3\n",
    "from __future__ import division, print_function, unicode_literals\n",
    "\n",
    "# magics and warnings\n",
    "%load_ext autoreload\n",
    "%autoreload 2\n",
    "import warnings; warnings.simplefilter('ignore')\n",
    "\n",
    "# machinery\n",
    "import os, codecs, string, random\n",
    "from numpy.random import seed as random_seed\n",
    "from numpy.random import shuffle as random_shuffle\n",
    "import numpy as np\n",
    "seed = 42 # reproducibility!\n",
    "random.seed(seed)\n",
    "random_seed(seed)\n",
    "np.random.seed(seed)\n",
    "import nltk, gensim, sklearn, spacy # the armory!\n",
    "import matplotlib.pyplot as plt\n",
    "import pyLDAvis.gensim\n",
    "\n",
    "# where our books are\n",
    "corpus_root = 'books/'"
   ]
  },
  {
   "cell_type": "markdown",
   "metadata": {},
   "source": [
    "### Some data first\n",
    "We have 4 books in the folder, in plain text."
   ]
  },
  {
   "cell_type": "code",
   "execution_count": 3,
   "metadata": {},
   "outputs": [
    {
     "name": "stdout",
     "output_type": "stream",
     "text": [
      "Moby_Dick.txt\n",
      "Frankenstein.txt\n",
      "DRACULA.txt\n",
      "PRIDE_AND_PREJUDICE.txt\n"
     ]
    }
   ],
   "source": [
    "# See Gutenberg Project for more: http://www.gutenberg.org/wiki/Main_Page\n",
    "books = list()\n",
    "for book_file in os.listdir(corpus_root): # use os functions to be os independent\n",
    "    if \".txt\" in book_file:\n",
    "        print(book_file)\n",
    "        with codecs.open(os.path.join(corpus_root,book_file),encoding=\"utf8\") as f: # use codecs for a variety of encodings\n",
    "            books.append(f.read())"
   ]
  },
  {
   "cell_type": "code",
   "execution_count": 4,
   "metadata": {},
   "outputs": [
    {
     "data": {
      "text/plain": [
       "'MOBY DICK;\\n\\nor, THE WHALE.\\n\\nBy Herman Melville\\n\\nETYMOLOGY. (Supplied by a Late Consumptive Usher to '"
      ]
     },
     "execution_count": 4,
     "metadata": {},
     "output_type": "execute_result"
    }
   ],
   "source": [
    "books[0][:100]"
   ]
  },
  {
   "cell_type": "code",
   "execution_count": 5,
   "metadata": {},
   "outputs": [],
   "source": [
    "books = [\" \".join(b.split()) for b in books] # getting rid of new lines and all extra white space"
   ]
  },
  {
   "cell_type": "code",
   "execution_count": 6,
   "metadata": {},
   "outputs": [
    {
     "data": {
      "text/plain": [
       "'MOBY DICK; or, THE WHALE. By Herman Melville ETYMOLOGY. (Supplied by a Late Consumptive Usher to a G'"
      ]
     },
     "execution_count": 6,
     "metadata": {},
     "output_type": "execute_result"
    }
   ],
   "source": [
    "books[0][:100]"
   ]
  },
  {
   "cell_type": "code",
   "execution_count": 7,
   "metadata": {},
   "outputs": [],
   "source": [
    "# let's get all chars and their frequency\n",
    "fdist1 = nltk.FreqDist(books[0])"
   ]
  },
  {
   "cell_type": "code",
   "execution_count": 8,
   "metadata": {},
   "outputs": [
    {
     "data": {
      "text/plain": [
       "[(' ', 212033),\n",
       " ('e', 116525),\n",
       " ('t', 85971),\n",
       " ('a', 75754),\n",
       " ('o', 68783),\n",
       " ('n', 64843),\n",
       " ('s', 62410),\n",
       " ('i', 62302),\n",
       " ('h', 61804),\n",
       " ('r', 51655)]"
      ]
     },
     "execution_count": 8,
     "metadata": {},
     "output_type": "execute_result"
    }
   ],
   "source": [
    "fdist1.most_common(10)"
   ]
  },
  {
   "cell_type": "code",
   "execution_count": 9,
   "metadata": {},
   "outputs": [
    {
     "data": {
      "image/png": "[encoded data removed]",
      "text/plain": [
       "<matplotlib.figure.Figure at 0x11836d898>"
      ]
     },
     "metadata": {},
     "output_type": "display_data"
    }
   ],
   "source": [
    "fdist1.plot(30,cumulative=True)"
   ]
  },
  {
   "cell_type": "code",
   "execution_count": 10,
   "metadata": {},
   "outputs": [],
   "source": [
    "# tokens now\n",
    "books_token = [nltk.word_tokenize(b) for b in books]"
   ]
  },
  {
   "cell_type": "code",
   "execution_count": 11,
   "metadata": {},
   "outputs": [
    {
     "data": {
      "text/plain": [
       "['MOBY', 'DICK', ';', 'or', ',', 'THE', 'WHALE', '.', 'By', 'Herman']"
      ]
     },
     "execution_count": 11,
     "metadata": {},
     "output_type": "execute_result"
    }
   ],
   "source": [
    "books_token[0][:10]"
   ]
  },
  {
   "cell_type": "code",
   "execution_count": 12,
   "metadata": {},
   "outputs": [
    {
     "data": {
      "text/plain": [
       "[(',', 19207),\n",
       " ('the', 13706),\n",
       " ('.', 6916),\n",
       " ('of', 6551),\n",
       " ('and', 5992),\n",
       " ('to', 4512),\n",
       " ('a', 4501),\n",
       " (';', 4174),\n",
       " ('in', 3908),\n",
       " ('that', 2931)]"
      ]
     },
     "execution_count": 12,
     "metadata": {},
     "output_type": "execute_result"
    }
   ],
   "source": [
    "# let's get all words and their frequency\n",
    "fdist2 = nltk.FreqDist(books_token[0])\n",
    "fdist2.most_common(10)"
   ]
  },
  {
   "cell_type": "code",
   "execution_count": 13,
   "metadata": {},
   "outputs": [
    {
     "data": {
      "image/png": "[encoded data removed]",
      "text/plain": [
       "<matplotlib.figure.Figure at 0x118391ba8>"
      ]
     },
     "metadata": {},
     "output_type": "display_data"
    }
   ],
   "source": [
    "fdist2.plot(50,cumulative=True)"
   ]
  },
  {
   "cell_type": "code",
   "execution_count": 14,
   "metadata": {},
   "outputs": [
    {
     "data": {
      "text/plain": [
       "[('*In', 'Sperm-whalemen'),\n",
       " ('2,800', 'firkins'),\n",
       " ('A.S.', 'Walwian'),\n",
       " ('AM', 'ESCAPED'),\n",
       " ('Agassiz', 'imagines'),\n",
       " ('Albert', 'Durer'),\n",
       " ('Anacharsis', 'Clootz'),\n",
       " ('Andrew', 'Jackson'),\n",
       " ('Animated', 'Nature.'),\n",
       " ('Anno', '1652')]"
      ]
     },
     "execution_count": 14,
     "metadata": {},
     "output_type": "execute_result"
    }
   ],
   "source": [
    "# Collocations (n-grams)\n",
    "finder = nltk.collocations.BigramCollocationFinder.from_words(books_token[0])\n",
    "bigram_measures = nltk.collocations.BigramAssocMeasures()\n",
    "# explore measures for different outcomes!\n",
    "finder.nbest(bigram_measures.pmi, 10)"
   ]
  },
  {
   "cell_type": "markdown",
   "metadata": {},
   "source": [
    "### Preprocessing"
   ]
  },
  {
   "cell_type": "code",
   "execution_count": 15,
   "metadata": {},
   "outputs": [],
   "source": [
    "# Let's get sentences\n",
    "books_sents = [nltk.sent_tokenize(b) for b in books]"
   ]
  },
  {
   "cell_type": "code",
   "execution_count": 16,
   "metadata": {},
   "outputs": [],
   "source": [
    "# A basic (and crude) function to get rid of stopwords, punctuation, lower case, numbers\n",
    "from nltk.corpus import stopwords\n",
    "punctuation = string.punctuation+'“’—.”’“--,”' # pimp the list of punctuation to remove\n",
    "def rem_stop(txt,stop_words=stopwords.words(\"english\"),lower=True,punct=True):\n",
    "    \"\"\"\n",
    "    Removes stopwords, punct and other things from a text, inc. numbers\n",
    "    :param list txt: text tokens (list of str)\n",
    "    :param list stop_words: stopwords to remove (list of str)\n",
    "    :param bol lower: if to lowercase\n",
    "    :param bol punct: if to rid punctuation\n",
    "    \"\"\"\n",
    "    if lower and punct:\n",
    "        return [t.lower() for t in txt if t.lower() not in stop_words and t.lower() not in punctuation and not t.isdigit()]\n",
    "    elif lower:\n",
    "        return [t.lower() for t in txt if t.lower() not in stop_words and not t.isdigit()]\n",
    "    elif punct:\n",
    "        return [t for t in txt if t.lower() not in stop_words and t.lower() not in punctuation and not t.isdigit()]\n",
    "    return [t for t in txt if t.lower() not in stop_words and not t.isdigit()]"
   ]
  },
  {
   "cell_type": "code",
   "execution_count": 17,
   "metadata": {},
   "outputs": [],
   "source": [
    "books_stop = [rem_stop(b,lower=False,punct=False) for b in books_token]"
   ]
  },
  {
   "cell_type": "code",
   "execution_count": 18,
   "metadata": {},
   "outputs": [
    {
     "data": {
      "text/plain": [
       "['MOBY',\n",
       " 'DICK',\n",
       " ';',\n",
       " ',',\n",
       " 'WHALE',\n",
       " '.',\n",
       " 'Herman',\n",
       " 'Melville',\n",
       " 'ETYMOLOGY',\n",
       " '.']"
      ]
     },
     "execution_count": 18,
     "metadata": {},
     "output_type": "execute_result"
    }
   ],
   "source": [
    "books_stop[0][:10]"
   ]
  },
  {
   "cell_type": "markdown",
   "metadata": {},
   "source": [
    "#### Stemming and lemmatizing"
   ]
  },
  {
   "cell_type": "code",
   "execution_count": 19,
   "metadata": {},
   "outputs": [
    {
     "data": {
      "text/plain": [
       "['and',\n",
       " 'to',\n",
       " 'teach',\n",
       " 'them',\n",
       " 'by',\n",
       " 'what',\n",
       " 'name',\n",
       " 'a',\n",
       " 'whale-fish',\n",
       " 'is',\n",
       " 'to',\n",
       " 'be',\n",
       " 'called',\n",
       " 'in',\n",
       " 'our',\n",
       " 'tongue']"
      ]
     },
     "execution_count": 19,
     "metadata": {},
     "output_type": "execute_result"
    }
   ],
   "source": [
    "# our target\n",
    "ranges = (102,118)\n",
    "books_token[0][ranges[0]:ranges[1]]"
   ]
  },
  {
   "cell_type": "code",
   "execution_count": 20,
   "metadata": {},
   "outputs": [],
   "source": [
    "# support function to work with WordNet POS tags\n",
    "from nltk.corpus import wordnet\n",
    "\n",
    "def get_wordnet_pos(treebank_tag):\n",
    "    \"\"\"\n",
    "    Cf. https://stackoverflow.com/questions/15586721/wordnet-lemmatization-and-pos-tagging-in-python\n",
    "    :param treebank_tag: a tag from nltk.pos_tag treebank\n",
    "    \"\"\"\n",
    "    \n",
    "    if treebank_tag.startswith('J'):\n",
    "        return wordnet.ADJ\n",
    "    elif treebank_tag.startswith('V'):\n",
    "        return wordnet.VERB\n",
    "    elif treebank_tag.startswith('N'):\n",
    "        return wordnet.NOUN\n",
    "    elif treebank_tag.startswith('R'):\n",
    "        return wordnet.ADV\n",
    "    else:\n",
    "        return wordnet.NOUN"
   ]
  },
  {
   "cell_type": "code",
   "execution_count": 21,
   "metadata": {},
   "outputs": [],
   "source": [
    "# stem and lemmatize\n",
    "porter = nltk.PorterStemmer()\n",
    "wnl = nltk.WordNetLemmatizer()\n",
    "books_stem = [[porter.stem(t) for t in b] for b in books_token]\n",
    "books_pos = [nltk.pos_tag(b) for b in books_token]\n",
    "books_lem = [[wnl.lemmatize(t,pos=get_wordnet_pos(p[1])) for t,p in zip(b,bp)] for b,bp in zip(books_token,books_pos)]"
   ]
  },
  {
   "cell_type": "code",
   "execution_count": 22,
   "metadata": {},
   "outputs": [
    {
     "name": "stdout",
     "output_type": "stream",
     "text": [
      "and  -  and  -  and\n",
      "to  -  to  -  to\n",
      "teach  -  teach  -  teach\n",
      "them  -  them  -  them\n",
      "by  -  by  -  by\n",
      "what  -  what  -  what\n",
      "name  -  name  -  name\n",
      "a  -  a  -  a\n",
      "whale-fish  -  whale-fish  -  whale-fish\n",
      "is  -  is  -  be\n",
      "to  -  to  -  to\n",
      "be  -  be  -  be\n",
      "called  -  call  -  call\n",
      "in  -  in  -  in\n",
      "our  -  our  -  our\n",
      "tongue  -  tongu  -  tongue\n"
     ]
    }
   ],
   "source": [
    "# compare\n",
    "for t,s,l in zip(books_token[0][ranges[0]:ranges[1]],books_stem[0][ranges[0]:ranges[1]],books_lem[0][ranges[0]:ranges[1]]):\n",
    "    print(t, \" - \", s,\" - \",l)"
   ]
  },
  {
   "cell_type": "code",
   "execution_count": 23,
   "metadata": {},
   "outputs": [],
   "source": [
    "# Let's load our corpus via NLTK\n",
    "from nltk.corpus import PlaintextCorpusReader\n",
    "?PlaintextCorpusReader"
   ]
  },
  {
   "cell_type": "code",
   "execution_count": 24,
   "metadata": {},
   "outputs": [
    {
     "name": "stdout",
     "output_type": "stream",
     "text": [
      "['DRACULA.txt', 'Frankenstein.txt', 'Moby_Dick.txt', 'PRIDE_AND_PREJUDICE.txt']\n"
     ]
    }
   ],
   "source": [
    "our_books = PlaintextCorpusReader(corpus_root, '.*.txt')\n",
    "print(our_books.fileids())"
   ]
  },
  {
   "cell_type": "code",
   "execution_count": 25,
   "metadata": {},
   "outputs": [
    {
     "data": {
      "text/plain": [
       "['austen-emma.txt',\n",
       " 'austen-persuasion.txt',\n",
       " 'austen-sense.txt',\n",
       " 'bible-kjv.txt',\n",
       " 'blake-poems.txt',\n",
       " 'bryant-stories.txt',\n",
       " 'burgess-busterbrown.txt',\n",
       " 'carroll-alice.txt',\n",
       " 'chesterton-ball.txt',\n",
       " 'chesterton-brown.txt',\n",
       " 'chesterton-thursday.txt',\n",
       " 'edgeworth-parents.txt',\n",
       " 'melville-moby_dick.txt',\n",
       " 'milton-paradise.txt',\n",
       " 'shakespeare-caesar.txt',\n",
       " 'shakespeare-hamlet.txt',\n",
       " 'shakespeare-macbeth.txt',\n",
       " 'whitman-leaves.txt']"
      ]
     },
     "execution_count": 25,
     "metadata": {},
     "output_type": "execute_result"
    }
   ],
   "source": [
    "# Note that we also have some from nltk\n",
    "nltk.corpus.gutenberg.fileids()"
   ]
  },
  {
   "cell_type": "markdown",
   "metadata": {},
   "source": [
    "### Typical task: topic detection\n",
    "Let's get some sentences from nltk, move to gensim to get a BOW representation, go back to numpy for LSA\n",
    "\n"
   ]
  },
  {
   "cell_type": "code",
   "execution_count": 26,
   "metadata": {},
   "outputs": [],
   "source": [
    "# get sentences\n",
    "dracula_sentences = our_books.sents('DRACULA.txt')"
   ]
  },
  {
   "cell_type": "code",
   "execution_count": 27,
   "metadata": {},
   "outputs": [
    {
     "data": {
      "text/plain": [
       "[['DRACULA'], ['Bram', 'Stoker'], ['CHAPTER', 'I']]"
      ]
     },
     "execution_count": 27,
     "metadata": {},
     "output_type": "execute_result"
    }
   ],
   "source": [
    "dracula_sentences[:3]"
   ]
  },
  {
   "cell_type": "code",
   "execution_count": 28,
   "metadata": {},
   "outputs": [],
   "source": [
    "# clean a bit\n",
    "dracula_sentences = [rem_stop(s) for s in dracula_sentences]"
   ]
  },
  {
   "cell_type": "code",
   "execution_count": 29,
   "metadata": {},
   "outputs": [
    {
     "data": {
      "text/plain": [
       "[['dracula'], ['bram', 'stoker'], ['chapter']]"
      ]
     },
     "execution_count": 29,
     "metadata": {},
     "output_type": "execute_result"
    }
   ],
   "source": [
    "dracula_sentences[:3]"
   ]
  },
  {
   "cell_type": "code",
   "execution_count": 30,
   "metadata": {},
   "outputs": [],
   "source": [
    "# create a dictionary and BOW representation using gensim\n",
    "from gensim import corpora\n",
    "dictionary = corpora.Dictionary(dracula_sentences)\n",
    "# filter dictionary\n",
    "max_freq = 0.5\n",
    "min_wordcount = 5\n",
    "dictionary.filter_extremes(no_below=min_wordcount, no_above=max_freq)\n",
    "corpus = [dictionary.doc2bow(s) for s in dracula_sentences]\n",
    "corpus = [s for s in corpus if len(s)>0] # filter out empty sentences"
   ]
  },
  {
   "cell_type": "code",
   "execution_count": 31,
   "metadata": {},
   "outputs": [
    {
     "data": {
      "text/plain": [
       "[[(2220, 1)], [(1475, 1)], [(85, 1), (1434, 1), (2096, 1)]]"
      ]
     },
     "execution_count": 31,
     "metadata": {},
     "output_type": "execute_result"
    }
   ],
   "source": [
    "corpus[:3] # we loose some sentences in the process!"
   ]
  },
  {
   "cell_type": "code",
   "execution_count": 32,
   "metadata": {},
   "outputs": [
    {
     "data": {
      "text/plain": [
       "2220"
      ]
     },
     "execution_count": 32,
     "metadata": {},
     "output_type": "execute_result"
    }
   ],
   "source": [
    "dictionary.token2id[\"dracula\"]"
   ]
  },
  {
   "cell_type": "code",
   "execution_count": 33,
   "metadata": {},
   "outputs": [],
   "source": [
    "# Let's move to numpy for LSA\n",
    "matrix = gensim.matutils.corpus2dense(corpus,num_terms=len(dictionary))"
   ]
  },
  {
   "cell_type": "code",
   "execution_count": 34,
   "metadata": {},
   "outputs": [
    {
     "data": {
      "text/plain": [
       "(9028, 2276)"
      ]
     },
     "execution_count": 34,
     "metadata": {},
     "output_type": "execute_result"
    }
   ],
   "source": [
    "matrix.T.shape # sentence x vocab matrix (your matrix from class, this is not tf-idf weighted)"
   ]
  },
  {
   "cell_type": "code",
   "execution_count": 35,
   "metadata": {},
   "outputs": [
    {
     "data": {
      "text/plain": [
       "(8960, 2253)"
      ]
     },
     "execution_count": 35,
     "metadata": {},
     "output_type": "execute_result"
    }
   ],
   "source": [
    "# (Almost) equivalent to:\n",
    "from sklearn.feature_extraction.text import CountVectorizer\n",
    "count_vect = CountVectorizer(min_df=min_wordcount,max_df=max_freq)\n",
    "X = count_vect.fit_transform([\" \".join(s) for s in dracula_sentences]).todense()\n",
    "X = X[np.asarray(np.sum(X, axis=1)>0).ravel(),:] # filter out empty sentences\n",
    "\n",
    "# Also tf-idf\n",
    "from sklearn.feature_extraction.text import TfidfTransformer\n",
    "tf_transformer = TfidfTransformer(use_idf=True).fit(X)\n",
    "X_tf = tf_transformer.transform(X)\n",
    "X_tf.shape"
   ]
  },
  {
   "cell_type": "markdown",
   "metadata": {},
   "source": [
    "#### Homemade LSA"
   ]
  },
  {
   "cell_type": "code",
   "execution_count": 36,
   "metadata": {},
   "outputs": [
    {
     "name": "stdout",
     "output_type": "stream",
     "text": [
      "0.0146167704089\n"
     ]
    }
   ],
   "source": [
    "# Run a SVD directly\n",
    "n_topics = 5\n",
    "U,S,_ = np.linalg.svd(matrix.T)\n",
    "sentence_vectors = U[:,:n_topics]\n",
    "print(sum(S[:n_topics])/sum(S)) # explained variance of the model"
   ]
  },
  {
   "cell_type": "code",
   "execution_count": 37,
   "metadata": {},
   "outputs": [
    {
     "data": {
      "text/plain": [
       "array([ 0.01077735, -0.00154847,  0.02358575,  0.00248787, -0.01675043], dtype=float32)"
      ]
     },
     "execution_count": 37,
     "metadata": {},
     "output_type": "execute_result"
    }
   ],
   "source": [
    "sentence_vectors[6,:]"
   ]
  },
  {
   "cell_type": "code",
   "execution_count": 38,
   "metadata": {},
   "outputs": [
    {
     "data": {
      "image/png": "[encoded data removed]",
      "text/plain": [
       "<matplotlib.figure.Figure at 0x1279143c8>"
      ]
     },
     "metadata": {},
     "output_type": "display_data"
    }
   ],
   "source": [
    "# PCA and plot\n",
    "from sklearn.decomposition import PCA\n",
    "pca = PCA(n_components=2)\n",
    "X_pca = pca.fit_transform(X=U)\n",
    "\n",
    "which_sentences = [6,7,8,9,10,11]\n",
    "\n",
    "plt.figure()\n",
    "for w in which_sentences:\n",
    "    plt.text(X_pca[w,0], X_pca[w,1], w,\n",
    "        bbox=dict(facecolor='green', alpha=0.1))\n",
    "\n",
    "plt.xlim((-0.02,0.03))\n",
    "plt.ylim((-0.03,0.02))\n",
    "plt.show()"
   ]
  },
  {
   "cell_type": "code",
   "execution_count": 39,
   "metadata": {},
   "outputs": [
    {
     "name": "stdout",
     "output_type": "stream",
     "text": [
      "6 bistritz left munich p ., 1st may arriving vienna early next morning arrived train hour late\n",
      "7 buda pesth seems wonderful place glimpse got train little could walk streets\n",
      "8 feared go far station arrived late would start near correct time possible\n",
      "9 impression leaving west entering east western splendid bridges danube noble width depth took us among traditions turkish rule\n",
      "10 left pretty good time came nightfall klausenburgh\n",
      "11 stopped night hotel royale\n"
     ]
    }
   ],
   "source": [
    "for n,sent in enumerate(dracula_sentences[6:12]):\n",
    "    print(n+6,\" \".join(sent))"
   ]
  },
  {
   "cell_type": "markdown",
   "metadata": {},
   "source": [
    "#### Proper LSA"
   ]
  },
  {
   "cell_type": "code",
   "execution_count": 40,
   "metadata": {},
   "outputs": [
    {
     "data": {
      "text/plain": [
       "[('said', -0.51312914330897363),\n",
       " (':--', -0.33601649049508392),\n",
       " ('.\"', -0.24536781825700915),\n",
       " ('van', -0.19970385099878801),\n",
       " ('helsing', -0.19970385099878801),\n",
       " ('?\"', -0.19259481850683335),\n",
       " (',\"', -0.17048329385911301),\n",
       " ('shall', -0.13814950680341045),\n",
       " ('know', -0.12126822354276665),\n",
       " ('must', -0.11431412995869636)]"
      ]
     },
     "execution_count": 40,
     "metadata": {},
     "output_type": "execute_result"
    }
   ],
   "source": [
    "# Let's use Gensim with tfidf\n",
    "tfidf = gensim.models.TfidfModel(corpus)\n",
    "corpus_tfidf = tfidf[corpus]\n",
    "model = gensim.models.LsiModel(corpus_tfidf, id2word=dictionary, num_topics=n_topics)\n",
    "model.show_topic(0)\n",
    "#model[corpus_tfidf[0]]"
   ]
  },
  {
   "cell_type": "code",
   "execution_count": 41,
   "metadata": {},
   "outputs": [],
   "source": [
    "# In sklearn use sklearn.decomposition import TruncatedSVD"
   ]
  },
  {
   "cell_type": "markdown",
   "metadata": {},
   "source": [
    "### Exercise: recomposing books\n",
    "A vandal has cut off all sentences from our books, and we would like to put them back again together!"
   ]
  },
  {
   "cell_type": "markdown",
   "metadata": {},
   "source": [
    "#### Interlude on Topic Modelling"
   ]
  },
  {
   "cell_type": "markdown",
   "metadata": {},
   "source": [
    "Main idea: assume documents are generated via topics (latent factors). \n",
    "\n",
    "For each document we select a few topics at varying proportions. \n",
    "\n",
    "Every topic is in turn a distrubition probability over words in the vocabulary.\n",
    "    \n",
    "Latent Dirichlet Allocation is one of the main techniques to estimate topics (Blei et al. 2003)\n",
    "\n",
    "From Blei, 2012, Probabilistic Topic Models:\n",
    "\n",
    "<img src=\"Blei.png\">"
   ]
  },
  {
   "cell_type": "markdown",
   "metadata": {},
   "source": [
    "#### Create the dataset\n",
    "We will chunk sentences from every book to represent pages, more or less, which the vandal has torn off"
   ]
  },
  {
   "cell_type": "code",
   "execution_count": 42,
   "metadata": {},
   "outputs": [],
   "source": [
    "def get_chunks(l, n):\n",
    "    \"\"\"Yield successive n-sized chunks from l.\"\"\"\n",
    "    for i in range(0, len(l), n):\n",
    "        yield l[i:i + n]"
   ]
  },
  {
   "cell_type": "code",
   "execution_count": 43,
   "metadata": {},
   "outputs": [
    {
     "name": "stdout",
     "output_type": "stream",
     "text": [
      "DRACULA.txt : 9303\n",
      "chunks: 187\n",
      "Frankenstein.txt : 3378\n",
      "chunks: 68\n",
      "Moby_Dick.txt : 9609\n",
      "chunks: 193\n",
      "PRIDE_AND_PREJUDICE.txt : 6055\n",
      "chunks: 122\n"
     ]
    }
   ],
   "source": [
    "# Get the data\n",
    "book_id = {f:n for n,f in enumerate(our_books.fileids())} # dictionary of books\n",
    "chunks = list()\n",
    "chunk_class = list() # this list contains the original book of the chunk, for evaluation\n",
    "limit = 60 # how many chunks total\n",
    "size = 50 # how many sentences per chunk/page\n",
    "for f in our_books.fileids():\n",
    "    sentences = our_books.sents(f)\n",
    "    print(f,\":\",len(sentences))\n",
    "    # create chunks\n",
    "    chunks_of_sents = [x for x in get_chunks(sentences,size)] # this is a list of lists of sentences, which are a list of tokens\n",
    "    chs = list()\n",
    "    # regroup so to have a list of chunks which are strings\n",
    "    for c in chunks_of_sents:\n",
    "        grouped_chunk = list()\n",
    "        for s in c:\n",
    "            grouped_chunk.extend(s)\n",
    "        chs.append(\" \".join(grouped_chunk))\n",
    "    print(\"chunks:\",len(chs))\n",
    "    # filter to the limit, to have the same number of chunks per book\n",
    "    chunks.extend(chs[:limit])\n",
    "    chunk_class.extend([book_id[f] for _ in range(len(chs[:limit]))])"
   ]
  },
  {
   "cell_type": "code",
   "execution_count": 44,
   "metadata": {},
   "outputs": [
    {
     "data": {
      "text/plain": [
       "\"DRACULA Bram Stoker CHAPTER I JONATHAN HARKER ' S JOURNAL ( _Kept in shorthand . _ ) _3 May . Bistri\""
      ]
     },
     "execution_count": 44,
     "metadata": {},
     "output_type": "execute_result"
    }
   ],
   "source": [
    "chunks[0][:100]"
   ]
  },
  {
   "cell_type": "markdown",
   "metadata": {},
   "source": [
    "#### More robust pipeline with Spacy\n",
    "<img src=\"spacy.png\">"
   ]
  },
  {
   "cell_type": "code",
   "execution_count": 45,
   "metadata": {
    "scrolled": false
   },
   "outputs": [],
   "source": [
    "import spacy\n",
    "STOPWORDS = spacy.en.language_data.STOP_WORDS\n",
    "nlp = spacy.load('en')\n",
    "\n",
    "processed_docs = list()\n",
    "for doc in nlp.pipe(chunks, n_threads=5, batch_size=10):\n",
    "\n",
    "    # Process document using Spacy NLP pipeline.\n",
    "    ents = doc.ents  # Named entities\n",
    "\n",
    "    # Keep only words (no numbers, no punctuation).\n",
    "    # Lemmatize tokens, remove punctuation and remove stopwords.\n",
    "    doc = [token.lemma_ for token in doc if token.is_alpha and not token.is_stop]\n",
    "\n",
    "    # Remove common words from a stopword list and keep only words of length 3 or more.\n",
    "    doc = [token for token in doc if token not in STOPWORDS and len(token) > 2]\n",
    "\n",
    "    # Add named entities, but only if they are a compound of more than word.\n",
    "    doc.extend([str(entity) for entity in ents if len(entity) > 1])\n",
    "\n",
    "    processed_docs.append(doc)\n",
    "docs = processed_docs\n",
    "del processed_docs"
   ]
  },
  {
   "cell_type": "code",
   "execution_count": 46,
   "metadata": {},
   "outputs": [],
   "source": [
    "# Add bigrams.\n",
    "from gensim.models.phrases import Phrases\n",
    "# Add bigrams to docs (only ones that appear 15 times or more).\n",
    "bigram = Phrases(docs, min_count=15)\n",
    "for idx in range(len(docs)):\n",
    "    for token in bigram[docs[idx]]:\n",
    "        if '_' in token:\n",
    "            # Token is a bigram, add to document.\n",
    "            docs[idx].append(token)"
   ]
  },
  {
   "cell_type": "code",
   "execution_count": 47,
   "metadata": {},
   "outputs": [
    {
     "name": "stdout",
     "output_type": "stream",
     "text": [
      "Number of unique tokens: 3068\n",
      "Number of chunks: 240\n"
     ]
    }
   ],
   "source": [
    "# Create a dictionary representation of the documents, and filter out frequent and rare words.\n",
    "from gensim.corpora import Dictionary\n",
    "dictionary = Dictionary(docs)\n",
    "# Remove rare and common tokens.\n",
    "# Filter out words that occur too frequently or too rarely.\n",
    "max_freq = 0.5\n",
    "min_wordcount = 5\n",
    "dictionary.filter_extremes(no_below=min_wordcount, no_above=max_freq)\n",
    "\n",
    "# Bag-of-words representation of the documents.\n",
    "corpus = [dictionary.doc2bow(doc) for doc in docs]\n",
    "#MmCorpus.serialize(\"models/corpus.mm\", corpus)\n",
    "\n",
    "print('Number of unique tokens: %d' % len(dictionary))\n",
    "print('Number of chunks: %d' % len(corpus))"
   ]
  },
  {
   "cell_type": "code",
   "execution_count": 55,
   "metadata": {},
   "outputs": [],
   "source": [
    "# models\n",
    "from gensim.models import LdaMulticore\n",
    "params = {'passes': 10, 'random_state': seed}\n",
    "base_models = dict()\n",
    "model = LdaMulticore(corpus=corpus, num_topics=4, id2word=dictionary, workers=6,\n",
    "                passes=params['passes'], random_state=params['random_state'])"
   ]
  },
  {
   "cell_type": "code",
   "execution_count": 56,
   "metadata": {},
   "outputs": [
    {
     "data": {
      "text/plain": [
       "[(0,\n",
       "  '0.028*\"whale\" + 0.012*\"ship\" + 0.011*\"captain\" + 0.009*\"queequeg\" + 0.009*\"old\"'),\n",
       " (1,\n",
       "  '0.016*\"elizabeth\" + 0.012*\"darcy\" + 0.011*\"bingley\" + 0.010*\"miss\" + 0.010*\"lady\"'),\n",
       " (2,\n",
       "  '0.006*\"dear\" + 0.006*\"father\" + 0.006*\"life\" + 0.005*\"love\" + 0.004*\"mind\"'),\n",
       " (3,\n",
       "  '0.007*\"room\" + 0.007*\"door\" + 0.006*\"sea\" + 0.006*\"sleep\" + 0.005*\"count\"')]"
      ]
     },
     "execution_count": 56,
     "metadata": {},
     "output_type": "execute_result"
    }
   ],
   "source": [
    "model.show_topics(num_words=5)"
   ]
  },
  {
   "cell_type": "code",
   "execution_count": 57,
   "metadata": {},
   "outputs": [
    {
     "data": {
      "text/plain": [
       "[('elizabeth', 0.015640554900789597),\n",
       " ('darcy', 0.011808009465055553),\n",
       " ('bingley', 0.010665116493220349),\n",
       " ('miss', 0.0096859488290914446),\n",
       " ('lady', 0.0096824688597904589),\n",
       " ('bennet', 0.0092363179659873292),\n",
       " ('mrs', 0.0092322555399384186),\n",
       " ('sister', 0.0077454350040913134),\n",
       " ('jane', 0.0074105604591136543),\n",
       " ('young', 0.0061657174369337646),\n",
       " ('collins', 0.0057655728816821223),\n",
       " ('wish', 0.004887491606181427),\n",
       " ('room', 0.0045532847536293997),\n",
       " ('mrs_bennet', 0.0044147926307568199),\n",
       " ('dear', 0.0044026367931454978),\n",
       " ('manner', 0.0041346765720949282),\n",
       " ('catherine', 0.0040787304327844203),\n",
       " ('wickham', 0.0039520520126349644),\n",
       " ('family', 0.0038539456632936675),\n",
       " ('charlotte', 0.0037764473613210517)]"
      ]
     },
     "execution_count": 57,
     "metadata": {},
     "output_type": "execute_result"
    }
   ],
   "source": [
    "model.show_topic(1,20)"
   ]
  },
  {
   "cell_type": "code",
   "execution_count": 58,
   "metadata": {},
   "outputs": [
    {
     "data": {
      "text/plain": [
       "[(3, 0.99730842089085792)]"
      ]
     },
     "execution_count": 58,
     "metadata": {},
     "output_type": "execute_result"
    }
   ],
   "source": [
    "sorted(model[corpus[0]],key=lambda x:x[1],reverse=True)"
   ]
  },
  {
   "cell_type": "code",
   "execution_count": 59,
   "metadata": {},
   "outputs": [
    {
     "data": {
      "text/html": [
       "\n",
       "<link rel=\"stylesheet\" type=\"text/css\" href=\"https://cdn.rawgit.com/bmabey/pyLDAvis/files/ldavis.v1.0.0.css\">\n",
       "\n",
       "\n",
       "<div id=\"ldavis_el113854952767968250107552\"></div>\n",
       "<script type=\"text/javascript\">\n",
       "\n",
       "var ldavis_el113854952767968250107552_data = {\"R\": 30, \"topic.order\": [3, 2, 4, 1], \"lambda.step\": 0.01, \"token.table\": {\"Term\": [\"Captain Ahab\", \"Captain Ahab\", \"Captain Bildad\", \"Captain Peleg\", \"Count Dracula\", \"Count Dracula\", \"Lady Catherine\", \"Miss Bingley\", \"Miss Bingley\", \"Sir William\", \"Van Helsing\", \"agatha\", \"ahab\", \"ahab\", \"ahab\", \"appear\", \"appear\", \"appear\", \"appear\", \"arabian\", \"ardour\", \"arm\", \"arm\", \"arm\", \"arthur\", \"arthur\", \"ask\", \"ask\", \"ask\", \"ask\", \"attention\", \"attention\", \"attention\", \"attention\", \"bed\", \"bed\", \"bed\", \"bed\", \"believe\", \"believe\", \"believe\", \"believe\", \"belt\", \"bennet\", \"bennet\", \"bennet\", \"big\", \"big\", \"big\", \"bildad\", \"bingley\", \"bingley\", \"bingley\", \"bistritz\", \"boot\", \"boot\", \"boot\", \"bourgh\", \"box\", \"box\", \"box\", \"cabin\", \"cabin\", \"cabin\", \"captain\", \"captain\", \"captain\", \"captain\", \"captain_ahab\", \"captain_ahab\", \"captain_peleg\", \"castle\", \"castle\", \"castle\", \"catherine\", \"cause\", \"cause\", \"cause\", \"cause\", \"chapel\", \"chapel\", \"chapter\", \"chapter\", \"chapter\", \"chapter\", \"charlotte\", \"child\", \"child\", \"child\", \"child\", \"clerval\", \"clerval\", \"cliff\", \"cliff\", \"collin\", \"collins\", \"colonel\", \"colonel\", \"colonel_fitzwilliam\", \"colonel_fitzwilliam\", \"corner\", \"corner\", \"corner\", \"cottage\", \"cottage\", \"cottage\", \"cottage\", \"cottager\", \"cottager\", \"count\", \"count\", \"count\", \"count\", \"courtyard\", \"crawl\", \"creator\", \"creature\", \"creature\", \"creature\", \"creature\", \"crime\", \"crime\", \"crucifix\", \"dance\", \"dance\", \"dance\", \"dance\", \"darcy\", \"darcy\", \"darcy\", \"daughter\", \"daughter\", \"daughter\", \"daughter\", \"dear\", \"dear\", \"dear\", \"dear\", \"death\", \"death\", \"death\", \"death\", \"deck\", \"deck\", \"deck\", \"despair\", \"despair\", \"despair\", \"door\", \"door\", \"door\", \"door\", \"dost\", \"downward\", \"dracula\", \"dracula\", \"driver\", \"driver\", \"east\", \"east\", \"elizabeth\", \"elizabeth\", \"elizabeth\", \"elizabeth\", \"endeavour\", \"endeavour\", \"endeavour\", \"enter\", \"enter\", \"enter\", \"enter\", \"ernest\", \"face\", \"face\", \"face\", \"face\", \"fall\", \"fall\", \"fall\", \"fall\", \"family\", \"family\", \"family\", \"family\", \"father\", \"father\", \"father\", \"father\", \"fear\", \"fear\", \"fear\", \"fear\", \"feeling\", \"feeling\", \"feeling\", \"feeling\", \"felix\", \"felix\", \"fin\", \"fish\", \"fish\", \"fish\", \"fish\", \"fishery\", \"fishery\", \"fitzwilliam\", \"flame\", \"flame\", \"flame\", \"flask\", \"flask\", \"flask\", \"floor\", \"fog\", \"foot\", \"foot\", \"foot\", \"foot\", \"forever\", \"forever\", \"forever\", \"frankenstein\", \"fulfil\", \"geneva\", \"gentle\", \"gentle\", \"gentle\", \"gentleman\", \"gentleman\", \"gentleman\", \"gentleman\", \"gentleness\", \"god\", \"god\", \"god\", \"god\", \"greenland\", \"greenland\", \"happy\", \"happy\", \"happy\", \"happy\", \"harbor\", \"harbour\", \"harbour\", \"harpooneer\", \"harpooneer\", \"head\", \"head\", \"head\", \"head\", \"heart\", \"heart\", \"heart\", \"heart\", \"helsing\", \"hertfordshire\", \"hold\", \"hold\", \"hold\", \"hold\", \"holmwood\", \"holmwood\", \"hope\", \"hope\", \"hope\", \"hope\", \"horn\", \"horn\", \"horror\", \"horror\", \"horror\", \"howling\", \"human\", \"human\", \"human\", \"human\", \"hunsford\", \"hurst\", \"hurst\", \"ingolstadt\", \"jane\", \"jane\", \"jane\", \"jonah\", \"jonah\", \"justine\", \"justine\", \"justine\", \"key\", \"key\", \"labour\", \"labour\", \"lady\", \"lady\", \"lady\", \"lady\", \"lady_catherine\", \"ladyship\", \"lamp\", \"lamp\", \"lamp\", \"land\", \"land\", \"land\", \"leg\", \"leg\", \"letter\", \"letter\", \"letter\", \"letter\", \"leviathan\", \"leviathan\", \"lie\", \"lie\", \"lie\", \"lie\", \"life\", \"life\", \"life\", \"life\", \"light\", \"light\", \"light\", \"light\", \"lizzy\", \"lock\", \"lock\", \"lock\", \"longbourn\", \"love\", \"love\", \"love\", \"love\", \"lucas\", \"lucas\", \"lucy\", \"lucy\", \"lydia\", \"manner\", \"manner\", \"manner\", \"manner\", \"mast\", \"mast\", \"mean\", \"mean\", \"mean\", \"mean\", \"meryton\", \"meryton\", \"mind\", \"mind\", \"mind\", \"mind\", \"miserable\", \"miserable\", \"miserable\", \"miserable\", \"misery\", \"misery\", \"misery\", \"misery\", \"miss\", \"miss\", \"miss\", \"miss\", \"miss_bennet\", \"miss_bennet\", \"miss_bingley\", \"miss_bingley\", \"miss_lucas\", \"month\", \"month\", \"month\", \"month\", \"morning\", \"morning\", \"morning\", \"morning\", \"movement\", \"mrs\", \"mrs\", \"mrs\", \"mrs\", \"mrs_bennet\", \"mrs_bennet\", \"murder\", \"murder\", \"murder\", \"murderer\", \"murderer\", \"murderer\", \"nantucket\", \"nantucket\", \"netherfield\", \"netherfield\", \"octavo\", \"oil\", \"oil\", \"old\", \"old\", \"old\", \"old\", \"open\", \"open\", \"open\", \"open\", \"overhead\", \"pass\", \"pass\", \"pass\", \"pass\", \"peleg\", \"pequod\", \"pequod\", \"peril\", \"pier\", \"pipe\", \"pipe\", \"pipe\", \"poor\", \"poor\", \"poor\", \"poor\", \"present\", \"present\", \"present\", \"present\", \"professor\", \"professor\", \"protector\", \"pulpit\", \"pulpit\", \"pulpit\", \"queequeg\", \"queequeg\", \"queequeg\", \"queequeg\", \"red\", \"red\", \"red\", \"red\", \"remain\", \"remain\", \"remain\", \"remain\", \"remorse\", \"reply\", \"reply\", \"reply\", \"reply\", \"return\", \"return\", \"return\", \"return\", \"revenge\", \"revenge\", \"revenge\", \"right\", \"right\", \"right\", \"right\", \"room\", \"room\", \"room\", \"room\", \"rosings\", \"round\", \"round\", \"round\", \"round\", \"royal\", \"run\", \"run\", \"run\", \"run\", \"safie\", \"sail\", \"sail\", \"sail\", \"sand\", \"science\", \"science\", \"science\", \"sea\", \"sea\", \"sea\", \"sea\", \"sensation\", \"sensation\", \"sensation\", \"september\", \"seward\", \"ship\", \"ship\", \"ship\", \"ship\", \"sir\", \"sir\", \"sir\", \"sir\", \"sir_william\", \"sir_william\", \"sister\", \"sister\", \"sister\", \"sister\", \"sit\", \"sit\", \"sit\", \"sit\", \"sleep\", \"sleep\", \"sleep\", \"sleep\", \"slovaks\", \"small\", \"small\", \"small\", \"small\", \"sort\", \"sort\", \"sort\", \"sort\", \"sperm\", \"sperm_whale\", \"spirit\", \"spirit\", \"spirit\", \"spirit\", \"stand\", \"stand\", \"stand\", \"stand\", \"starbuck\", \"starbuck\", \"steep\", \"storm\", \"storm\", \"storm\", \"strange\", \"strange\", \"strange\", \"strange\", \"stubb\", \"stubb\", \"stubb\", \"sweep\", \"sweep\", \"sweep\", \"tale\", \"tale\", \"tale\", \"tear\", \"tear\", \"tear\", \"tear\", \"thee\", \"thee\", \"thee\", \"thou\", \"thou\", \"thou\", \"throw\", \"throw\", \"throw\", \"throw\", \"till\", \"till\", \"till\", \"till\", \"try\", \"try\", \"try\", \"try\", \"undress\", \"union\", \"van\", \"van\", \"van_helsing\", \"victim\", \"victor\", \"victor\", \"voyage\", \"voyage\", \"voyage\", \"walk\", \"walk\", \"walk\", \"walk\", \"wall\", \"wall\", \"wall\", \"water\", \"water\", \"water\", \"water\", \"weep\", \"weep\", \"westenra\", \"westenra\", \"whale\", \"whale\", \"whale_ship\", \"whaleman\", \"whaleman\", \"whaling\", \"whaling\", \"white\", \"white\", \"white\", \"white\", \"wickham\", \"wickham\", \"wickham\", \"wind\", \"wind\", \"wind\", \"wind\", \"window\", \"window\", \"window\", \"window\", \"wish\", \"wish\", \"wish\", \"wish\", \"wolf\", \"word\", \"word\", \"word\", \"word\", \"work\", \"work\", \"work\", \"work\", \"world\", \"world\", \"world\", \"world\", \"wretch\", \"wretch\", \"write\", \"write\", \"write\", \"write\", \"young\", \"young\", \"young\", \"young\", \"young_lady\", \"young_lady\", \"young_lady\", \"young_lady\"], \"Freq\": [0.02623681232158297, 0.9707620558985699, 0.9684142623986112, 0.9580880102459516, 0.11663099642359537, 0.9330479713887629, 0.9791297334258365, 0.9585054272289008, 0.035500201008477804, 0.9779476371817457, 0.9576099867692397, 0.9664982030350491, 0.009455515817982492, 0.028366547453947476, 0.9644626134342142, 0.5948751234811293, 0.25602220504251133, 0.12048103766706415, 0.03012025941676604, 0.9715273230518952, 0.9666953430079769, 0.08200505920095638, 0.656040473607651, 0.24601517760286912, 0.9730324791356504, 0.022628662305480243, 0.4158694423344329, 0.31548716315025943, 0.24378553516156412, 0.02868065119547813, 0.28701638727687007, 0.6658780184823385, 0.04592262196429921, 0.011480655491074802, 0.10036801793580037, 0.02737309580067283, 0.7846954129526211, 0.09124365266890942, 0.42168539731566607, 0.48826730215498176, 0.0665819048393157, 0.022193968279771898, 0.9333387022023141, 0.005472678774345581, 0.9850821793822044, 0.005472678774345581, 0.04774562523052661, 0.9071668793800056, 0.04774562523052661, 0.9822888873480339, 0.004719936130033219, 0.9817467150469095, 0.009439872260066437, 0.9450433992226727, 0.055270665524972944, 0.8843306483995671, 0.055270665524972944, 0.9667284795948164, 0.036220880116703096, 0.8693011228008742, 0.07244176023340619, 0.05938422585086461, 0.05938422585086461, 0.8709686458126809, 0.011788330073915096, 0.023576660147830192, 0.07662414548044813, 0.8900189205805897, 0.024987512424494974, 0.974512984555304, 0.9858311783048863, 0.07325576280546667, 0.8302319784619556, 0.09767435040728889, 0.9916656476687533, 0.7322948101915481, 0.10297895768318645, 0.11442106409242939, 0.05721053204621469, 0.061778971424487586, 0.9266845713673139, 0.1750883185176729, 0.27059103770913084, 0.1671297585850514, 0.3820108767658318, 0.9888002524313239, 0.6698556720423647, 0.14354050115193528, 0.09569366743462353, 0.08373195900529559, 0.9639055916671875, 0.01927811183334375, 0.12594847492110214, 0.881639324447715, 0.9775822602744567, 0.9936314774047615, 0.9669387760393968, 0.0311915734206257, 0.9470739108807693, 0.041177126560033445, 0.05675505818229921, 0.8513258727344881, 0.05675505818229921, 0.8652344315510794, 0.01765784554185876, 0.08828922770929382, 0.03531569108371752, 0.9202910992546331, 0.08002531297866375, 0.04118869938982909, 0.010297174847457272, 0.9370429111186117, 0.010297174847457272, 0.9626574394442977, 0.9332177485869773, 0.9368597170148266, 0.6606417918655454, 0.12317050356815253, 0.06718391103717411, 0.15676245908673958, 0.921299370629689, 0.08011298875040775, 0.9547351994034786, 0.028628483538137506, 0.8874829896822627, 0.04294272530720626, 0.04294272530720626, 0.004252072600687271, 0.9822287707587596, 0.012756217802061813, 0.20183305594353043, 0.7736933811168667, 0.022425895104836717, 0.011212947552418358, 0.5983835055350782, 0.3430732098401115, 0.04787068044280626, 0.00797844674046771, 0.6154693064946364, 0.03567938008664558, 0.18731674545488933, 0.16055721038990514, 0.04313112241772706, 0.25878673450636236, 0.690097958683633, 0.8202911638890075, 0.02217003145645966, 0.13302018873875798, 0.163335079924561, 0.12703839549688078, 0.6896370041259242, 0.02419778961845348, 0.9616393543942651, 0.8997891432205349, 0.0552642728822284, 0.8842283661156544, 0.9522279529073409, 0.03283544665197727, 0.1049814015226122, 0.874845012688435, 0.20883576786264765, 0.7767671853427748, 0.005093555313723113, 0.00764033297058467, 0.7280590267032208, 0.24784988143088366, 0.015490617589430229, 0.4800970259484529, 0.20343094319849697, 0.2603916072940761, 0.05696066409557916, 0.9666094580520884, 0.24339422640968564, 0.08113140880322854, 0.5435804389816312, 0.12981025408516567, 0.3387648640476741, 0.09678996115647831, 0.5033077980136872, 0.05807397669388699, 0.27790074650612717, 0.6513298746237355, 0.008684398328316474, 0.06079078829821532, 0.6320701157301435, 0.2754019789967054, 0.06772179811394394, 0.027088719245577576, 0.3842176603522432, 0.10110991061901137, 0.4651055888474523, 0.047184624955538636, 0.5400326937231631, 0.33001997949748857, 0.12000726527181403, 0.012000726527181402, 0.9770894501768793, 0.021241075003845204, 0.9388509403388037, 0.06653083894957894, 0.06653083894957894, 0.1496943876365526, 0.7318392284453683, 0.04769945021533614, 0.9062895540913868, 0.9628555433726134, 0.038904611772076755, 0.8948060707577654, 0.07780922354415351, 0.024403284523850977, 0.048806569047701955, 0.9273248119063372, 0.9550118394916891, 0.9753370738406869, 0.14256021604476157, 0.010182872574625827, 0.5396922464551689, 0.3054861772387748, 0.9144995321286999, 0.031534466625127586, 0.031534466625127586, 0.9109138756683495, 0.9542468826466387, 0.984637603269061, 0.8540633286564135, 0.05337895804102585, 0.08006843706153877, 0.05431798663030204, 0.8147697994545305, 0.018105995543434013, 0.1267419688040381, 0.9542398468475028, 0.22232915733869357, 0.01588065409562097, 0.6034648556335969, 0.1588065409562097, 0.041976263915873134, 0.9234778061492089, 0.5903052411905007, 0.3457502126972933, 0.05903052411905007, 0.008432932017007153, 0.9535865014562854, 0.03622143388192012, 0.9417572809299232, 0.3018616346077074, 0.6955942014873258, 0.10740883909792678, 0.0966679551881341, 0.4081535885721218, 0.3866718207525364, 0.5395133682715525, 0.13487834206788812, 0.18392501191075653, 0.14100917579824665, 0.9690863154948901, 0.9500980688472538, 0.19838856599126398, 0.07715110899660266, 0.5290361759767039, 0.19838856599126398, 0.9022774830604231, 0.06940596023541716, 0.42498599129716824, 0.4781092402093142, 0.06640406114018253, 0.033202030570091266, 0.03747979292524245, 0.9369948231310613, 0.7738330627474354, 0.18504703674395193, 0.03364491577162762, 0.9399231176847881, 0.8066115556809583, 0.05866265859497879, 0.05866265859497879, 0.07332832324372349, 0.975247902409993, 0.965165594090086, 0.03217218646966953, 0.91849311048456, 0.0068137387286655105, 0.987992115656499, 0.0068137387286655105, 0.9029927028946932, 0.09850829486123926, 0.9650858844347464, 0.01892325263597542, 0.01892325263597542, 0.11663422593439081, 0.874756694507931, 0.8730307246300714, 0.11264912575871888, 0.07330539384660043, 0.8659199648129674, 0.04123428403871274, 0.018326348461650106, 0.988257126968018, 0.9845280057844947, 0.03621286690309094, 0.8328959387710916, 0.10863860070927281, 0.15351593201236016, 0.6012707337150773, 0.23027389801854026, 0.1076442005377768, 0.8611536043022144, 0.5132358909938081, 0.2914672961199404, 0.15206989362779497, 0.03801747340694874, 0.037479761043472434, 0.9744737871302833, 0.255769398100122, 0.01650125149033045, 0.585794427906731, 0.14026063766780883, 0.6081453588935077, 0.15203633972337693, 0.10135755981558463, 0.13821485429397903, 0.22951759968672655, 0.05737939992168164, 0.595311274187447, 0.11475879984336328, 0.9776238190123567, 0.0768299504142096, 0.8195194710849025, 0.10243993388561282, 0.9822514138643128, 0.5986169407297062, 0.30754631817306005, 0.05491898538804643, 0.038443289771632506, 0.9792345672124, 0.01659719605444746, 0.7360130776077068, 0.2608653945951366, 0.9763298562809628, 0.315330341233127, 0.5212603599976181, 0.10296500938224554, 0.06435313086390347, 0.06997498868601787, 0.9271686000897368, 0.2402301135711028, 0.41439694591015236, 0.15614957382121683, 0.18617833801760467, 0.9650001062296109, 0.032166670207653694, 0.5444431971129733, 0.14635569814864874, 0.18733529363027038, 0.12293878644486493, 0.8203121700106549, 0.06310093615466576, 0.09465140423199865, 0.01577523403866644, 0.8640848456613756, 0.07053753842133678, 0.03526876921066839, 0.03526876921066839, 0.051994406080362314, 0.8933584317444071, 0.03781411351299077, 0.018907056756495386, 0.9736933005957602, 0.02781980858845029, 0.9720036922465269, 0.014294171944801867, 0.9470095882036764, 0.744705569343117, 0.17066169297446435, 0.0775734968065747, 0.01551469936131494, 0.2570664051841904, 0.27096188654549797, 0.35433477471334346, 0.11811159157111449, 0.8591128809904698, 0.045667130261285924, 0.9133426052257184, 0.025370627922936623, 0.015222376753761974, 0.9831632705058954, 0.011432131052394132, 0.8797439005682122, 0.06945346583433254, 0.023151155278110847, 0.9027363331402327, 0.06944125639540251, 0.034720628197701255, 0.07633444354661885, 0.9160133225594261, 0.9697031784979411, 0.019789860785672266, 0.9684255271349173, 0.03279588899759505, 0.9510807809302565, 0.23239308406804499, 0.02427987445487037, 0.30870126092620903, 0.43010063320056086, 0.2331075359886615, 0.13421342981165357, 0.5227259897927561, 0.10595797090393703, 0.8998012548775414, 0.40345971407173015, 0.24534712342199808, 0.29986870640466434, 0.05452158298266624, 0.9920542617009542, 0.02186463597131647, 0.9839086187092411, 0.944046338088017, 0.9697227701562647, 0.03384801059120877, 0.06769602118241753, 0.880048275371428, 0.5544506977884108, 0.10757998613804987, 0.17378305453069592, 0.16550767098161517, 0.47262951087924504, 0.27570054801289295, 0.03938579257327042, 0.22056043841031436, 0.9297015643461348, 0.037188062573845396, 0.9715202496058953, 0.052501372394288544, 0.8925233307029052, 0.052501372394288544, 0.006247935774180266, 0.012495871548360533, 0.19993394477376852, 0.7809919717725333, 0.09750622205198176, 0.07312966653898632, 0.7556732209028586, 0.07312966653898632, 0.5986341188923663, 0.16484127911528929, 0.13881370872866466, 0.09543442475095695, 0.9541823855416648, 0.29686088925273757, 0.5937217785054751, 0.03598313809124092, 0.06297049165967161, 0.4963885580012854, 0.3818373523086811, 0.08273142633354756, 0.038183735230868106, 0.9160625975957746, 0.04163920898162612, 0.04163920898162612, 0.12123123824615264, 0.2144860368970393, 0.2611134362224826, 0.4009956341988126, 0.14046693707980595, 0.3472654833361869, 0.49553613914264877, 0.015607437453311772, 0.9468937499226825, 0.10485169820615506, 0.048393091479763874, 0.5081274605375207, 0.34681715560497445, 0.9440225708030917, 0.0792733465899161, 0.08808149621101789, 0.7222682689303467, 0.11450594507432325, 0.9575422579802718, 0.05896578335116943, 0.4009673267879521, 0.5424852068307587, 0.9190605107160604, 0.8923245167389493, 0.029744150557964977, 0.059488301115929954, 0.057825170735584054, 0.004448090056583389, 0.48484181616758937, 0.45370518577150565, 0.803330351946721, 0.02171163113369516, 0.15198141793586614, 0.9830698027322152, 0.9541867007843163, 0.004708097757499888, 0.004708097757499888, 0.23540488787499442, 0.758003738957482, 0.09750498815650807, 0.558437659441819, 0.05318453899445895, 0.29251496446952424, 0.9560919830604938, 0.024515179052833173, 0.15417610759533168, 0.8027790429963823, 0.010632835006574599, 0.0318985050197238, 0.2296915886621605, 0.22312897184324162, 0.3937570091351323, 0.15094018683513402, 0.31172706718077653, 0.01870362403084659, 0.6296886757051685, 0.04364178940530871, 0.9333579885550649, 0.12786483823109102, 0.2237634669044093, 0.23441887009033355, 0.41556072425104584, 0.053963871571632946, 0.19561903444716944, 0.34401968126916005, 0.4047290367872471, 0.985859855784855, 0.9794786517572452, 0.6336530964682908, 0.21781825191097498, 0.0693058074262193, 0.07920663705853635, 0.09193796130579855, 0.1343708665238594, 0.4596898065289927, 0.3111746382657797, 0.02440706056005693, 0.9762824224022771, 0.8886401352241149, 0.09765308806373087, 0.854464520557645, 0.04882654403186543, 0.2918963294505168, 0.05032695335353738, 0.5837926589010336, 0.07045773469495233, 0.022327367225686835, 0.022327367225686835, 0.960076790704534, 0.03088968379675096, 0.864911146309027, 0.09266905139025289, 0.8928721960284475, 0.029762406534281582, 0.059524813068563165, 0.773236289753677, 0.03361896911972508, 0.13447587647890033, 0.05042845367958763, 0.07317901517498829, 0.04878601011665886, 0.85375517704153, 0.012494723189776577, 0.07496833913865945, 0.9121147928536901, 0.22640296610766003, 0.12937312349009145, 0.52827358758454, 0.11859202986591716, 0.08403305121288185, 0.35293881509410374, 0.42016525606440924, 0.14285618706189915, 0.27469535466386075, 0.18836252891236166, 0.4552094448715407, 0.07848438704681736, 0.8997281673975045, 0.9182959792722905, 0.9370433667341311, 0.03470530987904189, 0.9690909740279608, 0.9252950469216633, 0.9369505332855173, 0.0347018716031673, 0.1233629406882349, 0.09869035255058792, 0.7648502322670564, 0.26672034750656126, 0.488987303762029, 0.1852224635462231, 0.05927118833479139, 0.08748249885168898, 0.809213114378123, 0.08748249885168898, 0.1765146120079382, 0.010383212471055189, 0.49839419861064904, 0.3218795866027108, 0.8790126975659297, 0.09766807750732552, 0.950478456659948, 0.04526087888856895, 0.02131340082758909, 0.9750880878622009, 0.9686553571046163, 0.11661616655603163, 0.8746212491702373, 0.01749220170732662, 0.9795632956102908, 0.05300661877014108, 0.021202647508056432, 0.59367413022558, 0.3286410363748747, 0.012703079694922003, 0.9781371365089943, 0.012703079694922003, 0.2648437134583301, 0.011514944063405657, 0.6102920353604998, 0.11514944063405656, 0.12609277023408585, 0.0969944386416045, 0.7565566214045151, 0.0193988877283209, 0.4141597461201798, 0.5044253318130395, 0.0477876630138669, 0.0318584420092446, 0.963057688992466, 0.4060219362548799, 0.22949065962232346, 0.2177219078468197, 0.1471093971937971, 0.5044861272036111, 0.08698036675924328, 0.3044312836573515, 0.10437644011109194, 0.30987093407163235, 0.17706910518378993, 0.145449622115256, 0.3667860035949934, 0.9112470570306748, 0.08678543400292141, 0.4650209239296032, 0.26009644897757467, 0.2285696066772626, 0.04729026345046813, 0.2357496842518254, 0.533772870004133, 0.08006593050061996, 0.14678753925113658, 0.027097486267185045, 0.9213145330842916, 0.027097486267185045, 0.027097486267185045], \"Topic\": [3, 4, 4, 4, 1, 3, 2, 2, 4, 2, 1, 1, 2, 3, 4, 1, 2, 3, 4, 1, 1, 1, 3, 4, 1, 3, 1, 2, 3, 4, 1, 2, 3, 4, 1, 2, 3, 4, 1, 2, 3, 4, 3, 1, 2, 4, 1, 3, 4, 4, 1, 2, 4, 3, 2, 3, 4, 2, 1, 3, 4, 1, 3, 4, 1, 2, 3, 4, 3, 4, 4, 1, 3, 4, 2, 1, 2, 3, 4, 1, 3, 1, 2, 3, 4, 2, 1, 2, 3, 4, 1, 3, 1, 3, 2, 2, 2, 4, 2, 4, 1, 3, 4, 1, 2, 3, 4, 1, 2, 1, 2, 3, 4, 3, 3, 1, 1, 2, 3, 4, 1, 3, 3, 1, 2, 3, 4, 1, 2, 4, 1, 2, 3, 4, 1, 2, 3, 4, 1, 2, 3, 4, 1, 3, 4, 1, 2, 3, 1, 2, 3, 4, 4, 3, 1, 3, 3, 4, 1, 3, 1, 2, 3, 4, 1, 2, 3, 1, 2, 3, 4, 1, 1, 2, 3, 4, 1, 2, 3, 4, 1, 2, 3, 4, 1, 2, 3, 4, 1, 2, 3, 4, 1, 2, 3, 4, 1, 2, 4, 1, 2, 3, 4, 3, 4, 2, 1, 3, 4, 2, 3, 4, 3, 3, 1, 2, 3, 4, 1, 2, 3, 1, 1, 1, 1, 2, 3, 1, 2, 3, 4, 1, 1, 2, 3, 4, 3, 4, 1, 2, 3, 4, 4, 1, 3, 3, 4, 1, 2, 3, 4, 1, 2, 3, 4, 1, 2, 1, 2, 3, 4, 1, 3, 1, 2, 3, 4, 3, 4, 1, 3, 4, 3, 1, 2, 3, 4, 2, 2, 4, 1, 1, 2, 4, 3, 4, 1, 2, 3, 1, 3, 1, 3, 1, 2, 3, 4, 2, 2, 1, 3, 4, 1, 3, 4, 3, 4, 1, 2, 3, 4, 3, 4, 1, 2, 3, 4, 1, 2, 3, 4, 1, 2, 3, 4, 2, 1, 3, 4, 2, 1, 2, 3, 4, 2, 4, 1, 3, 2, 1, 2, 3, 4, 3, 4, 1, 2, 3, 4, 2, 4, 1, 2, 3, 4, 1, 2, 3, 4, 1, 2, 3, 4, 1, 2, 3, 4, 2, 4, 2, 4, 2, 1, 2, 3, 4, 1, 2, 3, 4, 3, 1, 2, 3, 4, 2, 4, 1, 3, 4, 1, 3, 4, 3, 4, 2, 4, 4, 3, 4, 1, 2, 3, 4, 1, 2, 3, 4, 3, 1, 2, 3, 4, 4, 3, 4, 4, 3, 2, 3, 4, 1, 2, 3, 4, 1, 2, 3, 4, 1, 3, 1, 1, 3, 4, 1, 2, 3, 4, 1, 2, 3, 4, 1, 2, 3, 4, 1, 1, 2, 3, 4, 1, 2, 3, 4, 1, 2, 3, 1, 2, 3, 4, 1, 2, 3, 4, 2, 1, 2, 3, 4, 4, 1, 2, 3, 4, 1, 1, 3, 4, 3, 1, 2, 4, 1, 2, 3, 4, 1, 2, 3, 1, 1, 1, 2, 3, 4, 1, 2, 3, 4, 2, 4, 1, 2, 3, 4, 1, 2, 3, 4, 1, 2, 3, 4, 3, 1, 2, 3, 4, 1, 2, 3, 4, 4, 4, 1, 2, 3, 4, 1, 2, 3, 4, 3, 4, 3, 1, 3, 4, 1, 2, 3, 4, 2, 3, 4, 1, 3, 4, 1, 3, 4, 1, 2, 3, 4, 1, 3, 4, 1, 3, 4, 1, 2, 3, 4, 1, 2, 3, 4, 1, 2, 3, 4, 3, 1, 1, 4, 1, 1, 1, 3, 1, 3, 4, 1, 2, 3, 4, 1, 3, 4, 1, 2, 3, 4, 1, 3, 1, 3, 3, 4, 4, 3, 4, 3, 4, 1, 2, 3, 4, 1, 2, 4, 1, 2, 3, 4, 1, 2, 3, 4, 1, 2, 3, 4, 3, 1, 2, 3, 4, 1, 2, 3, 4, 1, 2, 3, 4, 1, 3, 1, 2, 3, 4, 1, 2, 3, 4, 1, 2, 3, 4]}, \"tinfo\": {\"logprob\": [30.0, 29.0, 28.0, 27.0, 26.0, 25.0, 24.0, 23.0, 22.0, 21.0, 20.0, 19.0, 18.0, 17.0, 16.0, 15.0, 14.0, 13.0, 12.0, 11.0, 10.0, 9.0, 8.0, 7.0, 6.0, 5.0, 4.0, 3.0, 2.0, 1.0, -6.2431, -6.3077, -6.5268, -6.7713, -6.7714, -6.1317, -6.9234, -6.1549, -6.8123, -6.9295, -6.9741, -7.2643, -7.0224, -6.7592, -7.1646, -7.3287, -7.2746, -7.4582, -7.4588, -6.7713, -7.3392, -7.4014, -7.5365, -7.693, -6.8476, -7.5414, -7.6976, -7.4746, -6.9637, -7.6984, -6.6877, -7.0265, -6.9488, -6.9502, -6.4308, -6.1787, -6.1778, -6.6716, -6.6784, -6.822, -6.111, -6.0679, -6.6462, -5.7034, -6.6041, -6.775, -5.129, -5.9053, -5.0562, -5.1881, -6.4562, -6.2416, -5.3789, -6.2472, -6.1918, -5.7049, -6.457, -5.8286, -5.5341, -5.9027, -6.0357, -5.9942, -5.5703, -5.5917, -5.8281, -5.8177, -6.2188, -5.6723, -5.7097, -5.8648, -5.7135, -5.7661, -5.8419, -5.9148, -5.6599, -5.9787, -5.9969, -5.9977, -5.8606, -6.0163, -6.0151, -6.0213, -5.1559, -5.502, -4.6846, -5.5912, -4.9048, -5.4228, -5.579, -5.7971, -4.5408, -4.439, -5.5335, -5.8026, -6.1464, -6.2421, -6.2446, -5.9822, -6.2711, -6.4384, -5.6609, -6.7232, -6.5091, -6.8092, -6.6875, -6.4495, -6.3354, -6.4811, -6.7296, -6.7335, -6.9572, -7.0091, -6.4899, -6.5882, -6.224, -4.6851, -4.6371, -4.6374, -5.7444, -4.1579, -4.8607, -6.3404, -5.6419, -5.0888, -5.5587, -6.0739, -5.3211, -5.4883, -5.6859, -5.8248, -5.7315, -5.5989, -5.3919, -5.4256, -5.6852, -5.6381, -5.6901, -6.3852, -6.6022, -6.685, -6.9218, -6.7782, -6.5065, -7.2379, -7.1052, -5.2601, -6.7983, -7.4926, -7.327, -7.0601, -7.4115, -7.6046, -7.7107, -6.9654, -7.7136, -6.975, -7.5241, -5.7668, -7.7286, -6.9309, -6.6362, -7.9892, -6.5372, -7.993, -6.5787, -7.9997, -7.7505, -6.3685, -6.4438, -6.7452, -6.2182, -6.3687, -5.316, -6.2925, -6.6174, -6.2523, -5.4038, -6.1548, -5.026, -5.363, -5.1557, -5.3477, -5.4389, -6.3253, -5.4977, -4.9216, -5.0718, -5.7347, -5.7937, -5.701, -5.4634, -5.5592, -5.9103, -5.6209, -6.0705, -5.5324, -5.4322, -5.5914, -5.8039, -5.2731, -5.6999, -5.8119, -5.8671, -5.8967, -5.6795, -5.8929, -5.7641, -5.8249, -5.8281, -5.862, -5.862, -5.1936, -5.2604, -5.4631, -3.5851, -5.6904, -6.0668, -6.0683, -6.1649, -5.8286, -5.8781, -5.8063, -5.7179, -6.3114, -4.8614, -6.4381, -6.2435, -6.6358, -6.2505, -6.1279, -7.0339, -7.1185, -7.0386, -5.8463, -6.5188, -7.3167, -5.526, -7.3172, -7.2229, -5.6161, -6.4054, -5.2038, -4.4739, -6.215, -5.7027, -6.0832, -4.6572, -4.4052, -6.0128, -5.9318, -5.3542, -5.5187, -5.7128, -4.6654, -4.868, -5.6239, -5.2142, -5.3948, -5.6662, -5.4256, -5.6132, -5.7244, -5.6987, -5.7374, -5.8267], \"Freq\": [375.0, 392.0, 235.0, 211.0, 212.0, 169.0, 182.0, 160.0, 197.0, 211.0, 146.0, 218.0, 105.0, 224.0, 113.0, 288.0, 188.0, 74.0, 69.0, 80.0, 97.0, 87.0, 80.0, 78.0, 57.0, 74.0, 165.0, 73.0, 81.0, 256.0, 45.88367388068235, 43.015214105224466, 34.55092426932245, 27.057412037403626, 27.054099281518955, 51.29210453066094, 23.238199109366494, 50.11812643356622, 25.96879625699537, 23.097445524741953, 22.089896911952465, 16.52579721262119, 21.048676638828205, 27.386806159053126, 18.258636488007763, 15.495782805267096, 16.357379196619203, 13.613403047126152, 13.604947198299465, 27.057994799724636, 15.33322545432861, 14.409013164554986, 12.587974495640468, 10.764186702043718, 25.069763514670264, 12.526659552253232, 10.715445986021603, 13.391276363772935, 22.320633854319894, 10.706106212218026, 29.41757571316169, 20.962719180885305, 22.65684148629774, 22.624838229202165, 38.03085909890953, 48.93824363208139, 48.98185301332017, 29.89299586414483, 29.690265845901973, 25.72037959727291, 52.367192502690116, 54.67369054267312, 30.661771025307292, 78.71527450182272, 31.982443927962873, 26.958311261541724, 139.80238998702953, 64.32193766165679, 150.35842152096444, 131.77604987901702, 37.07957410277796, 45.95273608961691, 108.88852048079742, 45.69525330839141, 48.302413431006705, 78.59668892634618, 37.04994240874872, 69.44947045268712, 93.23986537820599, 64.49259623144867, 56.45862364452482, 58.8538651497804, 89.91756270298313, 88.01619138879171, 69.48845995321211, 70.21688497685767, 47.014198619189386, 81.20578945356604, 78.22415473062465, 66.98590570361688, 77.92224069529108, 73.93075682524155, 68.53585178939674, 63.71923017894437, 82.21943525890667, 59.77264230876112, 58.691693294836526, 58.646563052334, 67.26645440820913, 57.566120015227334, 57.63658065490118, 57.28197492622231, 112.55196285903115, 79.62246347475143, 180.3057108105989, 72.82761861463703, 144.6643972203889, 86.18286272747555, 73.72147952563643, 59.274935990727045, 208.1978356818487, 230.50868838592794, 77.14952537609322, 58.9476283628364, 41.800145405074005, 37.98566080096975, 37.88932927610327, 49.255357132059174, 36.897344720536395, 31.214358080672962, 67.92356387430301, 23.478758205157185, 29.0843643538978, 21.54379667139376, 24.330803060372304, 30.868254073484614, 34.600352634925635, 29.908096721976452, 23.328842013629234, 23.23755810348251, 18.579990981246574, 17.639700865621247, 29.648199741597775, 26.87045312966277, 38.67846331975839, 180.22640663126447, 189.083127598643, 189.01519378121446, 62.47867805821948, 305.32527997022106, 151.2016118428089, 34.42675460619628, 69.22684852487386, 120.36333842311676, 75.23435364660583, 44.94365845933565, 95.4106009969067, 80.7146095499122, 66.2453445541133, 57.65266702762535, 63.293176006486156, 72.2640813272122, 88.8864206547973, 85.94556395224079, 66.29375538342046, 69.49183781153876, 65.96576525954842, 29.406508066757965, 23.67148198061361, 21.78871302335941, 17.194782939347235, 19.85021097263768, 26.048033949639397, 12.53497008688115, 14.313271399274859, 90.58782515008339, 19.455733462580497, 9.716906453024865, 11.466941068297444, 14.973913954758935, 10.537661459359798, 8.687487680020709, 7.812497437372475, 16.461030139421286, 7.789761844463174, 16.30401910503034, 9.414876924247926, 54.579032155424464, 7.673620139993234, 17.038805691208875, 22.87883109757458, 5.913779759141326, 25.25968194346131, 5.891341134197555, 24.23263353730007, 5.851649482122722, 7.507514445260075, 29.90300120835914, 27.732630742584526, 20.516194049759584, 34.75204468182647, 29.896942631167413, 85.66851081181453, 32.264055100944574, 23.31278863438622, 33.58570386023913, 78.46681233060332, 37.025745374246924, 114.4818040203314, 81.73193095867941, 100.55869204787211, 82.99435880911301, 75.76115470637974, 31.221296888941914, 71.43465730330819, 127.08122346465011, 109.35654370936693, 56.359813114977314, 53.13204267138008, 58.29284046149969, 73.92390698656796, 67.169707533448, 47.283696264873164, 63.15409169870995, 40.283570081402985, 68.99182228287495, 76.26659450126319, 65.04274048962088, 52.58870476170381, 89.42027939008979, 58.35270966604754, 52.17361842955491, 49.37211909268749, 47.92895840848464, 59.55976290027002, 48.11031828803483, 54.72860401536636, 51.49973232844531, 51.332474158413426, 49.62072072614948, 49.62281841376239, 73.33648173285907, 68.59426010558023, 56.00805608857994, 366.3211251501517, 44.62336399708093, 30.626108043529197, 30.57878971518654, 27.76323541681077, 38.862178992728346, 36.98399610601795, 39.7388938584472, 43.41115988625025, 23.97960022225821, 102.23031791249363, 21.125885812367656, 25.664086768905232, 17.335990244377236, 25.485679560723728, 28.80894506875102, 11.642496658270314, 10.698355815784417, 11.588869229763889, 38.18133444258402, 19.487685481180534, 8.774983534722148, 52.59234657889341, 8.770933021902161, 9.637617358668141, 48.064234588683995, 21.828527747272076, 72.58788555336433, 150.6099477048231, 26.40648195353482, 44.077668895661354, 30.127132364820408, 125.38170142807991, 161.32830967741606, 32.324245825408255, 35.05004431637469, 62.45053279211935, 52.97741942271155, 43.6316737289174, 124.36227185408723, 101.56007456177727, 47.68953849867183, 71.83939230356404, 59.96672130002915, 45.714750406343654, 58.15184244012671, 48.20196960297007, 43.12765314201657, 44.25151580154885, 42.573850392039475, 38.93421088547073], \"loglift\": [30.0, 29.0, 28.0, 27.0, 26.0, 25.0, 24.0, 23.0, 22.0, 21.0, 20.0, 19.0, 18.0, 17.0, 16.0, 15.0, 14.0, 13.0, 12.0, 11.0, 10.0, 9.0, 8.0, 7.0, 6.0, 5.0, 4.0, 3.0, 2.0, 1.0, 1.1138, 1.1125, 1.1111, 1.1102, 1.1101, 1.1097, 1.1065, 1.1051, 1.1042, 1.1004, 1.0967, 1.0942, 1.091, 1.0886, 1.0886, 1.087, 1.084, 1.0826, 1.082, 1.0766, 1.0763, 1.075, 1.0734, 1.0709, 1.0694, 1.0686, 1.0665, 1.0663, 1.0663, 1.0656, 1.0644, 1.0448, 1.0414, 1.0411, 1.0122, 0.9935, 0.9931, 1.022, 1.0158, 1.0264, 0.9485, 0.9187, 0.9928, 0.8294, 0.9812, 1.009, 0.6794, 0.833, 0.6284, 0.6405, 0.9436, 0.8813, 0.6254, 0.8765, 0.851, 0.615, 0.9219, 0.6606, 0.5341, 0.6909, 0.747, 0.7225, 0.5225, 0.5226, 0.6335, 0.6155, 0.8224, 0.475, 0.442, 0.5495, 0.257, 0.2309, 0.2314, 0.2794, -0.424, 0.3863, 0.4005, 0.3678, -0.3158, 0.4478, 0.2558, 0.1879, 1.3191, 1.3164, 1.3162, 1.3153, 1.3151, 1.3146, 1.3145, 1.3131, 1.312, 1.3094, 1.3093, 1.3076, 1.3068, 1.3064, 1.3039, 1.3039, 1.3028, 1.3025, 1.3, 1.2955, 1.2945, 1.2929, 1.292, 1.2916, 1.2914, 1.2908, 1.2892, 1.2854, 1.2848, 1.2842, 1.2822, 1.2823, 1.2763, 1.2401, 1.2172, 1.1856, 1.2178, 1.0779, 1.1112, 1.26, 1.0762, 0.7047, 0.9039, 1.1234, 0.6495, 0.6745, 0.8119, 0.9168, 0.7515, 0.5952, 0.2706, 0.2591, 0.617, 0.4557, 0.6136, 1.4073, 1.3978, 1.395, 1.3918, 1.3888, 1.3842, 1.3809, 1.3801, 1.3728, 1.3686, 1.3673, 1.3658, 1.3644, 1.3613, 1.3505, 1.3496, 1.3478, 1.3467, 1.3381, 1.3355, 1.3326, 1.3316, 1.3309, 1.3259, 1.3223, 1.3189, 1.3185, 1.3119, 1.3116, 1.3095, 1.3053, 1.2876, 1.293, 1.2779, 1.2779, 1.196, 1.2515, 1.273, 1.244, 1.1693, 1.2313, 1.075, 1.1137, 0.9754, 0.9236, 0.9341, 1.1693, 0.9136, 0.7408, 0.7217, 0.9273, 0.951, 0.9092, 0.7926, 0.8353, 0.9396, 0.7677, 1.0279, 0.6767, 0.5497, 0.6658, 0.8178, 0.2717, 0.6614, 0.7591, 0.8117, 0.8041, 0.5029, 0.7483, 0.233, 0.4146, 0.3818, 0.5676, -0.0117, 1.7069, 1.7063, 1.6996, 1.6958, 1.6955, 1.6937, 1.6922, 1.6909, 1.6908, 1.69, 1.6896, 1.6889, 1.6875, 1.6862, 1.6833, 1.6813, 1.6766, 1.6743, 1.6634, 1.6578, 1.6532, 1.6532, 1.6495, 1.6471, 1.6372, 1.6368, 1.6368, 1.6357, 1.6338, 1.6327, 1.6225, 1.6011, 1.6079, 1.5838, 1.5904, 1.476, 1.4451, 1.5808, 1.5635, 1.4593, 1.3567, 1.3996, 0.8793, 0.9255, 1.3427, 0.7677, 0.8151, 1.1023, 0.7198, 0.762, 0.8093, 0.5585, 0.6512, 0.8403], \"Category\": [\"Default\", \"Default\", \"Default\", \"Default\", \"Default\", \"Default\", \"Default\", \"Default\", \"Default\", \"Default\", \"Default\", \"Default\", \"Default\", \"Default\", \"Default\", \"Default\", \"Default\", \"Default\", \"Default\", \"Default\", \"Default\", \"Default\", \"Default\", \"Default\", \"Default\", \"Default\", \"Default\", \"Default\", \"Default\", \"Default\", \"Topic1\", \"Topic1\", \"Topic1\", \"Topic1\", \"Topic1\", \"Topic1\", \"Topic1\", \"Topic1\", \"Topic1\", \"Topic1\", \"Topic1\", \"Topic1\", \"Topic1\", \"Topic1\", \"Topic1\", \"Topic1\", \"Topic1\", \"Topic1\", \"Topic1\", \"Topic1\", \"Topic1\", \"Topic1\", \"Topic1\", \"Topic1\", \"Topic1\", \"Topic1\", \"Topic1\", \"Topic1\", \"Topic1\", \"Topic1\", \"Topic1\", \"Topic1\", \"Topic1\", \"Topic1\", \"Topic1\", \"Topic1\", \"Topic1\", \"Topic1\", \"Topic1\", \"Topic1\", \"Topic1\", \"Topic1\", \"Topic1\", \"Topic1\", \"Topic1\", \"Topic1\", \"Topic1\", \"Topic1\", \"Topic1\", \"Topic1\", \"Topic1\", \"Topic1\", \"Topic1\", \"Topic1\", \"Topic1\", \"Topic1\", \"Topic1\", \"Topic1\", \"Topic1\", \"Topic1\", \"Topic1\", \"Topic1\", \"Topic1\", \"Topic1\", \"Topic1\", \"Topic1\", \"Topic1\", \"Topic1\", \"Topic1\", \"Topic1\", \"Topic1\", \"Topic1\", \"Topic1\", \"Topic1\", \"Topic1\", \"Topic1\", \"Topic1\", \"Topic1\", \"Topic1\", \"Topic1\", \"Topic1\", \"Topic1\", \"Topic2\", \"Topic2\", \"Topic2\", \"Topic2\", \"Topic2\", \"Topic2\", \"Topic2\", \"Topic2\", \"Topic2\", \"Topic2\", \"Topic2\", \"Topic2\", \"Topic2\", \"Topic2\", \"Topic2\", \"Topic2\", \"Topic2\", \"Topic2\", \"Topic2\", \"Topic2\", \"Topic2\", \"Topic2\", \"Topic2\", \"Topic2\", \"Topic2\", \"Topic2\", \"Topic2\", \"Topic2\", \"Topic2\", \"Topic2\", \"Topic2\", \"Topic2\", \"Topic2\", \"Topic2\", \"Topic2\", \"Topic2\", \"Topic2\", \"Topic2\", \"Topic2\", \"Topic2\", \"Topic2\", \"Topic2\", \"Topic2\", \"Topic2\", \"Topic2\", \"Topic2\", \"Topic2\", \"Topic2\", \"Topic2\", \"Topic2\", \"Topic2\", \"Topic2\", \"Topic2\", \"Topic2\", \"Topic2\", \"Topic3\", \"Topic3\", \"Topic3\", \"Topic3\", \"Topic3\", \"Topic3\", \"Topic3\", \"Topic3\", \"Topic3\", \"Topic3\", \"Topic3\", \"Topic3\", \"Topic3\", \"Topic3\", \"Topic3\", \"Topic3\", \"Topic3\", \"Topic3\", \"Topic3\", \"Topic3\", \"Topic3\", \"Topic3\", \"Topic3\", \"Topic3\", \"Topic3\", \"Topic3\", \"Topic3\", \"Topic3\", \"Topic3\", \"Topic3\", \"Topic3\", \"Topic3\", \"Topic3\", \"Topic3\", \"Topic3\", \"Topic3\", \"Topic3\", \"Topic3\", \"Topic3\", \"Topic3\", \"Topic3\", \"Topic3\", \"Topic3\", \"Topic3\", \"Topic3\", \"Topic3\", \"Topic3\", \"Topic3\", \"Topic3\", \"Topic3\", \"Topic3\", \"Topic3\", \"Topic3\", \"Topic3\", \"Topic3\", \"Topic3\", \"Topic3\", \"Topic3\", \"Topic3\", \"Topic3\", \"Topic3\", \"Topic3\", \"Topic3\", \"Topic3\", \"Topic3\", \"Topic3\", \"Topic3\", \"Topic3\", \"Topic3\", \"Topic3\", \"Topic3\", \"Topic3\", \"Topic3\", \"Topic3\", \"Topic4\", \"Topic4\", \"Topic4\", \"Topic4\", \"Topic4\", \"Topic4\", \"Topic4\", \"Topic4\", \"Topic4\", \"Topic4\", \"Topic4\", \"Topic4\", \"Topic4\", \"Topic4\", \"Topic4\", \"Topic4\", \"Topic4\", \"Topic4\", \"Topic4\", \"Topic4\", \"Topic4\", \"Topic4\", \"Topic4\", \"Topic4\", \"Topic4\", \"Topic4\", \"Topic4\", \"Topic4\", \"Topic4\", \"Topic4\", \"Topic4\", \"Topic4\", \"Topic4\", \"Topic4\", \"Topic4\", \"Topic4\", \"Topic4\", \"Topic4\", \"Topic4\", \"Topic4\", \"Topic4\", \"Topic4\", \"Topic4\", \"Topic4\", \"Topic4\", \"Topic4\", \"Topic4\", \"Topic4\", \"Topic4\", \"Topic4\", \"Topic4\", \"Topic4\", \"Topic4\", \"Topic4\"], \"Term\": [\"whale\", \"elizabeth\", \"darcy\", \"bingley\", \"ship\", \"captain\", \"bennet\", \"queequeg\", \"mrs\", \"miss\", \"jane\", \"lady\", \"ahab\", \"sea\", \"collins\", \"old\", \"sister\", \"bildad\", \"peleg\", \"thou\", \"count\", \"mrs_bennet\", \"catherine\", \"wickham\", \"whaling\", \"charlotte\", \"door\", \"lady_catherine\", \"voyage\", \"room\", \"felix\", \"arthur\", \"geneva\", \"helsing\", \"van_helsing\", \"justine\", \"Van Helsing\", \"clerval\", \"agatha\", \"safie\", \"seward\", \"september\", \"westenra\", \"victor\", \"creator\", \"ingolstadt\", \"victim\", \"arabian\", \"protector\", \"van\", \"union\", \"frankenstein\", \"ernest\", \"remorse\", \"professor\", \"ardour\", \"gentleness\", \"holmwood\", \"revenge\", \"fulfil\", \"forever\", \"wretch\", \"cottager\", \"crime\", \"murder\", \"cottage\", \"misery\", \"science\", \"tale\", \"murderer\", \"miserable\", \"human\", \"labour\", \"lucy\", \"gentle\", \"weep\", \"father\", \"cause\", \"dear\", \"life\", \"despair\", \"tear\", \"love\", \"horror\", \"month\", \"appear\", \"sensation\", \"death\", \"mind\", \"spirit\", \"child\", \"creature\", \"feeling\", \"heart\", \"remain\", \"happy\", \"endeavour\", \"letter\", \"return\", \"poor\", \"wish\", \"pass\", \"word\", \"hope\", \"elizabeth\", \"present\", \"enter\", \"write\", \"old\", \"work\", \"ask\", \"fear\", \"collins\", \"catherine\", \"bennet\", \"lady_catherine\", \"jane\", \"mrs_bennet\", \"charlotte\", \"Lady Catherine\", \"bingley\", \"darcy\", \"wickham\", \"lucas\", \"longbourn\", \"collin\", \"lizzy\", \"netherfield\", \"lydia\", \"bourgh\", \"miss_bingley\", \"rosings\", \"fitzwilliam\", \"ladyship\", \"hertfordshire\", \"colonel\", \"miss_bennet\", \"meryton\", \"miss_lucas\", \"colonel_fitzwilliam\", \"Sir William\", \"hunsford\", \"hurst\", \"Miss Bingley\", \"sir_william\", \"mrs\", \"miss\", \"lady\", \"dance\", \"elizabeth\", \"sister\", \"young_lady\", \"daughter\", \"young\", \"family\", \"gentleman\", \"wish\", \"manner\", \"reply\", \"attention\", \"sir\", \"hope\", \"room\", \"dear\", \"believe\", \"mean\", \"walk\", \"driver\", \"pier\", \"wolf\", \"howling\", \"floor\", \"harbour\", \"fog\", \"sand\", \"count\", \"big\", \"crucifix\", \"steep\", \"chapel\", \"courtyard\", \"bistritz\", \"slovaks\", \"boot\", \"belt\", \"dracula\", \"movement\", \"jonah\", \"crawl\", \"pulpit\", \"flame\", \"overhead\", \"east\", \"downward\", \"box\", \"undress\", \"Count Dracula\", \"key\", \"sweep\", \"cliff\", \"storm\", \"corner\", \"bed\", \"lock\", \"lamp\", \"castle\", \"window\", \"wall\", \"door\", \"run\", \"sleep\", \"light\", \"god\", \"red\", \"lie\", \"room\", \"sea\", \"white\", \"wind\", \"strange\", \"open\", \"face\", \"land\", \"round\", \"arm\", \"fear\", \"head\", \"stand\", \"foot\", \"old\", \"try\", \"fall\", \"throw\", \"hold\", \"sit\", \"water\", \"pass\", \"morning\", \"sort\", \"till\", \"ship\", \"bildad\", \"peleg\", \"whaling\", \"whale\", \"pequod\", \"captain_peleg\", \"sperm\", \"sperm_whale\", \"captain_ahab\", \"Captain Ahab\", \"starbuck\", \"stubb\", \"whale_ship\", \"ahab\", \"Captain Peleg\", \"leviathan\", \"fin\", \"horn\", \"oil\", \"octavo\", \"dost\", \"Captain Bildad\", \"flask\", \"fishery\", \"royal\", \"mast\", \"peril\", \"harbor\", \"nantucket\", \"greenland\", \"thou\", \"captain\", \"pipe\", \"cabin\", \"whaleman\", \"queequeg\", \"ship\", \"leg\", \"thee\", \"voyage\", \"harpooneer\", \"fish\", \"old\", \"sea\", \"deck\", \"head\", \"sort\", \"sail\", \"world\", \"chapter\", \"right\", \"stand\", \"round\", \"small\"], \"Total\": [375.0, 392.0, 235.0, 211.0, 212.0, 169.0, 182.0, 160.0, 197.0, 211.0, 146.0, 218.0, 105.0, 224.0, 113.0, 288.0, 188.0, 74.0, 69.0, 80.0, 97.0, 87.0, 80.0, 78.0, 57.0, 74.0, 165.0, 73.0, 81.0, 256.0, 47.07859653143606, 44.19174171677919, 35.546072873712845, 27.861295292578475, 27.8611613600902, 52.84503775523652, 24.018128797504314, 51.872299976514455, 26.90123987644614, 24.01982764553235, 23.056284458708742, 17.29277000753398, 22.094135698557086, 28.81688951637779, 19.213121957420157, 16.33109691164325, 17.29178174381234, 14.410299811251088, 14.410404729782224, 28.81403460984187, 16.334602719143827, 15.36918074689335, 13.449071795963597, 11.528194364807502, 26.89034950434085, 13.447876928370315, 11.527500173400233, 14.407984510380855, 24.01582605570783, 11.527415179488035, 31.71133388389613, 23.045341916855254, 24.99209219629341, 24.964740814139464, 43.1943887027309, 56.632050474643265, 56.70739424031342, 33.62005575016218, 33.59943352860792, 28.80132220839849, 63.39050169074607, 68.18647664124754, 35.508486844074824, 107.33504934012437, 37.46794754709985, 30.716279838466026, 221.49441417314486, 87.39649538586703, 250.67535888354587, 217.05337066152717, 45.1059350981945, 59.490223893467046, 182.0863937915463, 59.44434557587977, 64.45500339461593, 132.80098104910257, 46.058262220937394, 112.1095711384615, 170.8167178746147, 101.00163694726406, 83.60009825587967, 89.30709610936596, 166.65657662226036, 163.10995273745857, 115.26239120427768, 118.58271808467632, 64.5552053833111, 157.82216602809103, 157.13496764322682, 120.84032045996, 188.33312684465034, 183.4136034380962, 169.94155694259166, 150.59319909499908, 392.6530442521313, 126.94933054091445, 122.89182563346002, 126.87601130165847, 288.3046208913098, 114.96847360599699, 139.46684727404832, 148.35340975150262, 113.72425549071932, 80.67235180331915, 182.72587177740564, 73.86741568357283, 146.76230478180557, 87.47275511599202, 74.83816859678603, 60.25759200833105, 211.86727371943527, 235.17942751926861, 78.72106796273548, 60.25114101921063, 42.758910200766415, 38.87140913270202, 38.86975671111354, 50.53092645927018, 37.897028101691426, 32.066915017330395, 69.95858199142862, 24.289948055817284, 30.11874439484569, 22.34573305252997, 25.260550238902184, 32.05994088578876, 35.94561036682191, 31.088079479300948, 24.28697690762273, 24.28532740238851, 19.428443075699118, 18.456845644598804, 31.082749098907353, 28.16885458651882, 40.791054303330974, 197.07829128973546, 211.56122031663273, 218.2649756098679, 69.86049391459017, 392.6530442521313, 188.09658936335796, 36.903792113403384, 89.18261637497132, 224.81472315944202, 115.14902497498136, 55.230323988599544, 188.33312684465034, 155.39259497954177, 111.16317842700015, 87.10304048208849, 112.8147411529714, 150.59319909499908, 256.28806855485635, 250.67535888354587, 135.17186120943816, 166.50701864718923, 134.97282954430167, 30.45489256165737, 24.74934150111021, 22.843906706166287, 18.086585679341816, 20.942148749323486, 27.607962822784568, 13.328725369587909, 15.232946946107269, 97.11401571926639, 20.944327258712715, 10.474108429487076, 12.37846408684411, 16.18673760572883, 11.426702323466014, 9.523372161958676, 8.571202151904041, 18.092780148416523, 8.571379265772576, 18.09487301372918, 10.475922546550478, 60.90857636356125, 8.572490195469518, 19.047121139804467, 25.70389356044766, 6.668139177930543, 28.576490278173917, 6.668228934753242, 27.608384908870686, 6.668680849856254, 8.574050043850026, 34.2952505403524, 32.37326761192622, 23.819264202121456, 40.96132625513593, 35.2391498494448, 109.59666461716984, 39.04727237003596, 27.6144941154782, 40.952409545807456, 103.0986945236119, 45.72343100053976, 165.30435478080028, 113.53122313048453, 160.39672285180177, 139.42285926516084, 125.93939695163391, 41.0230231037723, 121.20292822468512, 256.28806855485635, 224.815592148354, 94.32784274888569, 86.84366979931644, 99.35034145373237, 141.56556483701644, 123.25682676426123, 78.16778260535091, 123.98463947088334, 60.9718479410803, 148.35340975150262, 186.20441453394352, 141.39969839835993, 98.20411604598178, 288.3046208913098, 127.4138765208782, 103.31649977452939, 92.75496854583609, 90.73103538029822, 152.37823989923893, 96.3093072387428, 183.4136034380962, 143.93168167380398, 148.24733228009052, 119.00079618276493, 212.40000771161212, 74.31622299737515, 69.55264713211768, 57.16833230782774, 375.35070375274955, 45.73595468554193, 31.445546339185352, 31.444631625983515, 28.586636318990994, 40.019990105926325, 38.11438629598224, 40.97175067597192, 44.788084053615414, 24.77661412180469, 105.75837630118505, 21.91865441945054, 26.681066585246075, 18.107240744590616, 26.68104388929281, 30.491626559454776, 12.391247095171012, 11.438799743100033, 12.391391231969127, 40.97809042969738, 20.964602222574126, 9.53367035741909, 57.16328183986208, 9.533430337993533, 10.486725624501117, 52.40098459035896, 23.82298724832094, 80.03378584795054, 169.65931454749023, 29.54383381869204, 50.51846609121573, 34.300561561317345, 160.0528616399231, 212.40000771161212, 37.15945661741651, 40.995359022341205, 81.06162145787513, 76.19384964203975, 60.12249451763926, 288.3046208913098, 224.815592148354, 69.55534268143664, 186.20441453394352, 148.24733228009052, 84.7949389601527, 158.13035238946532, 125.6508725782262, 107.23308767666211, 141.39969839835993, 123.98463947088334, 93.84910008107401]}, \"mdsDat\": {\"cluster\": [1, 1, 1, 1], \"Freq\": [31.997288076166463, 26.461062316983774, 23.637764397186356, 17.903885209663397], \"y\": [0.08560861937206432, -0.06098204536496212, 0.0748829614101952, -0.09950953541729739], \"x\": [0.05510402908127484, 0.17113515757417297, -0.09630095658668912, -0.12993823006875857], \"topics\": [1, 2, 3, 4]}, \"plot.opts\": {\"ylab\": \"PC2\", \"xlab\": \"PC1\"}};\n",
       "\n",
       "function LDAvis_load_lib(url, callback){\n",
       "  var s = document.createElement('script');\n",
       "  s.src = url;\n",
       "  s.async = true;\n",
       "  s.onreadystatechange = s.onload = callback;\n",
       "  s.onerror = function(){console.warn(\"failed to load library \" + url);};\n",
       "  document.getElementsByTagName(\"head\")[0].appendChild(s);\n",
       "}\n",
       "\n",
       "if(typeof(LDAvis) !== \"undefined\"){\n",
       "   // already loaded: just create the visualization\n",
       "   !function(LDAvis){\n",
       "       new LDAvis(\"#\" + \"ldavis_el113854952767968250107552\", ldavis_el113854952767968250107552_data);\n",
       "   }(LDAvis);\n",
       "}else if(typeof define === \"function\" && define.amd){\n",
       "   // require.js is available: use it to load d3/LDAvis\n",
       "   require.config({paths: {d3: \"https://cdnjs.cloudflare.com/ajax/libs/d3/3.5.5/d3.min\"}});\n",
       "   require([\"d3\"], function(d3){\n",
       "      window.d3 = d3;\n",
       "      LDAvis_load_lib(\"https://cdn.rawgit.com/bmabey/pyLDAvis/files/ldavis.v1.0.0.js\", function(){\n",
       "        new LDAvis(\"#\" + \"ldavis_el113854952767968250107552\", ldavis_el113854952767968250107552_data);\n",
       "      });\n",
       "    });\n",
       "}else{\n",
       "    // require.js not available: dynamically load d3 & LDAvis\n",
       "    LDAvis_load_lib(\"https://cdnjs.cloudflare.com/ajax/libs/d3/3.5.5/d3.min.js\", function(){\n",
       "         LDAvis_load_lib(\"https://cdn.rawgit.com/bmabey/pyLDAvis/files/ldavis.v1.0.0.js\", function(){\n",
       "                 new LDAvis(\"#\" + \"ldavis_el113854952767968250107552\", ldavis_el113854952767968250107552_data);\n",
       "            })\n",
       "         });\n",
       "}\n",
       "</script>"
      ],
      "text/plain": [
       "<IPython.core.display.HTML object>"
      ]
     },
     "execution_count": 59,
     "metadata": {},
     "output_type": "execute_result"
    }
   ],
   "source": [
    "# plot topics\n",
    "data =  pyLDAvis.gensim.prepare(model, corpus, dictionary)\n",
    "pyLDAvis.display(data)"
   ]
  },
  {
   "cell_type": "code",
   "execution_count": 60,
   "metadata": {},
   "outputs": [],
   "source": [
    "# assignment\n",
    "sent_to_cluster = list()\n",
    "for n,doc in enumerate(corpus):\n",
    "    if doc:\n",
    "        cluster = max(model[doc],key=lambda x:x[1])\n",
    "        sent_to_cluster.append(cluster[0])"
   ]
  },
  {
   "cell_type": "code",
   "execution_count": 61,
   "metadata": {},
   "outputs": [
    {
     "name": "stdout",
     "output_type": "stream",
     "text": [
      "Moby_Dick.txt : 0 - 42\n",
      "Accuracy: 0.7\n",
      "------\n",
      "Frankenstein.txt : 2 - 58\n",
      "Accuracy: 0.9666666666666667\n",
      "------\n",
      "PRIDE_AND_PREJUDICE.txt : 1 - 60\n",
      "Accuracy: 1.0\n",
      "------\n",
      "DRACULA.txt : 3 - 42\n",
      "Accuracy: 0.7\n",
      "------\n"
     ]
    }
   ],
   "source": [
    "# accuracy\n",
    "from collections import Counter\n",
    "for book, cluster in book_id.items():\n",
    "    assignments = list()\n",
    "    for real,given in zip(chunk_class,sent_to_cluster):\n",
    "        if real == cluster:\n",
    "            assignments.append(given)\n",
    "    most_common,num_most_common = Counter(assignments).most_common(1)[0] # 4, 6 times\n",
    "    print(book,\":\",most_common,\"-\",num_most_common)\n",
    "    print(\"Accuracy:\",num_most_common/limit)\n",
    "    print(\"------\")"
   ]
  },
  {
   "cell_type": "markdown",
   "metadata": {},
   "source": [
    "### List of resources\n",
    "    * Jellyfish: string similarity library\n",
    "    * TextBlob: simplified text processing\n",
    "    * PyEnchant: language detection\n",
    "    * WordNet: ontology of concepts (inc. in NLTK)\n",
    "    * Stanford NLP (Java)\n",
    "    * Tweet NLP: https://www.cs.cmu.edu/~ark/TweetNLP/"
   ]
  },
  {
   "cell_type": "markdown",
   "metadata": {},
   "source": [
    "#### A word on WordNet\n",
    "WordNet is an ontology of concepts, it follows the denotational approach to meaning (i.e. we give an explicit definition to the machine). What we did before follows the distributional hypothesis: words have meaning by the company they keep."
   ]
  },
  {
   "cell_type": "code",
   "execution_count": 62,
   "metadata": {},
   "outputs": [
    {
     "name": "stdout",
     "output_type": "stream",
     "text": [
      "[Synset('house.n.01'), Synset('firm.n.01'), Synset('house.n.03'), Synset('house.n.04'), Synset('house.n.05'), Synset('house.n.06'), Synset('house.n.07'), Synset('sign_of_the_zodiac.n.01'), Synset('house.n.09'), Synset('family.n.01'), Synset('theater.n.01'), Synset('house.n.12'), Synset('house.v.01'), Synset('house.v.02')]\n",
      "------\n",
      "a dwelling that serves as living quarters for one or more families\n",
      "the members of a business organization that owns or operates one or more establishments\n",
      "housing that someone is living in\n",
      "------\n",
      "[Synset('structure.n.01')]\n",
      "[Synset('dwelling.n.01')]\n",
      "------\n",
      "0.16666666666666666\n",
      "0.5\n"
     ]
    }
   ],
   "source": [
    "from nltk.corpus import wordnet as wn\n",
    "print(wn.synsets('house'))\n",
    "print(\"------\")\n",
    "print(wn.synset('house.n.01').definition())\n",
    "print(wn.synset('house.n.02').definition())\n",
    "print(wn.synset('home.n.02').definition())\n",
    "print(\"------\")\n",
    "print(wn.synset('house.n.01').lowest_common_hypernyms(wn.synset('factory.n.01')))\n",
    "print(wn.synset('house.n.01').lowest_common_hypernyms(wn.synset('home.n.02')))\n",
    "print(\"------\")\n",
    "print(wn.synset('house.n.01').path_similarity(wn.synset('factory.n.01')))\n",
    "print(wn.synset('house.n.01').path_similarity(wn.synset('home.n.02')))"
   ]
  },
  {
   "cell_type": "markdown",
   "metadata": {},
   "source": [
    "### Exercise for the brave"
   ]
  },
  {
   "cell_type": "markdown",
   "metadata": {},
   "source": [
    "Consider word embeddings, a way to represent word features in dense vectors (cornerstone of deep learning methods for NLP).\n",
    "There exist also document embeddings, which produce vectors to represent entire chunks of text such as sentences or paragraphs.\n",
    "    * Consider the doc2vec method from the Gensim API: https://radimrehurek.com/gensim/models/doc2vec.html\n",
    "    * Use it to produce embeddings for a sample of our dataset of chunks\n",
    "    * Try to learn a supervised method (e.g. logistic regression or random forests) to predict the book a chunk is part of\n",
    "    * How does it work?"
   ]
  }
 ],
 "metadata": {
  "kernelspec": {
   "display_name": "Python [conda env:ada]",
   "language": "python",
   "name": "conda-env-ada-py"
  },
  "language_info": {
   "codemirror_mode": {
    "name": "ipython",
    "version": 3
   },
   "file_extension": ".py",
   "mimetype": "text/x-python",
   "name": "python",
   "nbconvert_exporter": "python",
   "pygments_lexer": "ipython3",
   "version": "3.5.4"
  },
  "toc": {
   "colors": {
    "hover_highlight": "#DAA520",
    "navigate_num": "#000000",
    "navigate_text": "#333333",
    "running_highlight": "#FF0000",
    "selected_highlight": "#FFD700",
    "sidebar_border": "#EEEEEE",
    "wrapper_background": "#FFFFFF"
   },
   "moveMenuLeft": true,
   "nav_menu": {
    "height": "228px",
    "width": "252px"
   },
   "navigate_menu": true,
   "number_sections": true,
   "sideBar": true,
   "threshold": 4,
   "toc_cell": false,
   "toc_section_display": "block",
   "toc_window_display": false,
   "widenNotebook": false
  }
 },
 "nbformat": 4,
 "nbformat_minor": 2
}
